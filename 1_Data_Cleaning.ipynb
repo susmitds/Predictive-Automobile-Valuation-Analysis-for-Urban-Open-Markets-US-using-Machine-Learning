{
  "cells": [
    {
      "cell_type": "markdown",
      "metadata": {
        "id": "view-in-github",
        "colab_type": "text"
      },
      "source": [
        "<a href=\"https://colab.research.google.com/github/susmitds/User-Car-Price-Prediction-using-Machine-Learning-Models/blob/main/1_Data_Cleaning.ipynb\" target=\"_parent\"><img src=\"https://colab.research.google.com/assets/colab-badge.svg\" alt=\"Open In Colab\"/></a>"
      ]
    },
    {
      "cell_type": "code",
      "execution_count": 1,
      "id": "65e53a59",
      "metadata": {
        "id": "65e53a59"
      },
      "outputs": [],
      "source": [
        "import warnings\n",
        "warnings.filterwarnings('ignore')\n",
        "import numpy as np\n",
        "import pandas as pd\n",
        "import matplotlib.pyplot as plt\n",
        "import seaborn as sns"
      ]
    },
    {
      "cell_type": "code",
      "execution_count": 2,
      "id": "505514d5",
      "metadata": {
        "id": "505514d5"
      },
      "outputs": [],
      "source": [
        "car=pd.read_csv('D:/Workspace/Projects/UsedCarPricePrediction/Data/vehicles.csv')"
      ]
    },
    {
      "cell_type": "code",
      "execution_count": 3,
      "id": "9ec327d0",
      "metadata": {
        "colab": {
          "base_uri": "https://localhost:8080/",
          "height": 342
        },
        "id": "9ec327d0",
        "outputId": "fc11b32d-9f15-495b-8aee-708755ba0503"
      },
      "outputs": [
        {
          "output_type": "execute_result",
          "data": {
            "text/plain": [
              "           id                                                url  \\\n",
              "0  7222695916  https://prescott.craigslist.org/cto/d/prescott...   \n",
              "1  7218891961  https://fayar.craigslist.org/ctd/d/bentonville...   \n",
              "2  7221797935  https://keys.craigslist.org/cto/d/summerland-k...   \n",
              "3  7222270760  https://worcester.craigslist.org/cto/d/west-br...   \n",
              "4  7210384030  https://greensboro.craigslist.org/cto/d/trinit...   \n",
              "\n",
              "                   region                         region_url  price  year  \\\n",
              "0                prescott    https://prescott.craigslist.org   6000   NaN   \n",
              "1            fayetteville       https://fayar.craigslist.org  11900   NaN   \n",
              "2            florida keys        https://keys.craigslist.org  21000   NaN   \n",
              "3  worcester / central MA   https://worcester.craigslist.org   1500   NaN   \n",
              "4              greensboro  https://greensboro.craigslist.org   4900   NaN   \n",
              "\n",
              "  manufacturer model condition cylinders  ... size  type paint_color  \\\n",
              "0          NaN   NaN       NaN       NaN  ...  NaN   NaN         NaN   \n",
              "1          NaN   NaN       NaN       NaN  ...  NaN   NaN         NaN   \n",
              "2          NaN   NaN       NaN       NaN  ...  NaN   NaN         NaN   \n",
              "3          NaN   NaN       NaN       NaN  ...  NaN   NaN         NaN   \n",
              "4          NaN   NaN       NaN       NaN  ...  NaN   NaN         NaN   \n",
              "\n",
              "  image_url description county state lat long posting_date  \n",
              "0       NaN         NaN    NaN    az NaN  NaN          NaN  \n",
              "1       NaN         NaN    NaN    ar NaN  NaN          NaN  \n",
              "2       NaN         NaN    NaN    fl NaN  NaN          NaN  \n",
              "3       NaN         NaN    NaN    ma NaN  NaN          NaN  \n",
              "4       NaN         NaN    NaN    nc NaN  NaN          NaN  \n",
              "\n",
              "[5 rows x 26 columns]"
            ],
            "text/html": [
              "<div>\n",
              "<style scoped>\n",
              "    .dataframe tbody tr th:only-of-type {\n",
              "        vertical-align: middle;\n",
              "    }\n",
              "\n",
              "    .dataframe tbody tr th {\n",
              "        vertical-align: top;\n",
              "    }\n",
              "\n",
              "    .dataframe thead th {\n",
              "        text-align: right;\n",
              "    }\n",
              "</style>\n",
              "<table border=\"1\" class=\"dataframe\">\n",
              "  <thead>\n",
              "    <tr style=\"text-align: right;\">\n",
              "      <th></th>\n",
              "      <th>id</th>\n",
              "      <th>url</th>\n",
              "      <th>region</th>\n",
              "      <th>region_url</th>\n",
              "      <th>price</th>\n",
              "      <th>year</th>\n",
              "      <th>manufacturer</th>\n",
              "      <th>model</th>\n",
              "      <th>condition</th>\n",
              "      <th>cylinders</th>\n",
              "      <th>...</th>\n",
              "      <th>size</th>\n",
              "      <th>type</th>\n",
              "      <th>paint_color</th>\n",
              "      <th>image_url</th>\n",
              "      <th>description</th>\n",
              "      <th>county</th>\n",
              "      <th>state</th>\n",
              "      <th>lat</th>\n",
              "      <th>long</th>\n",
              "      <th>posting_date</th>\n",
              "    </tr>\n",
              "  </thead>\n",
              "  <tbody>\n",
              "    <tr>\n",
              "      <th>0</th>\n",
              "      <td>7222695916</td>\n",
              "      <td>https://prescott.craigslist.org/cto/d/prescott...</td>\n",
              "      <td>prescott</td>\n",
              "      <td>https://prescott.craigslist.org</td>\n",
              "      <td>6000</td>\n",
              "      <td>NaN</td>\n",
              "      <td>NaN</td>\n",
              "      <td>NaN</td>\n",
              "      <td>NaN</td>\n",
              "      <td>NaN</td>\n",
              "      <td>...</td>\n",
              "      <td>NaN</td>\n",
              "      <td>NaN</td>\n",
              "      <td>NaN</td>\n",
              "      <td>NaN</td>\n",
              "      <td>NaN</td>\n",
              "      <td>NaN</td>\n",
              "      <td>az</td>\n",
              "      <td>NaN</td>\n",
              "      <td>NaN</td>\n",
              "      <td>NaN</td>\n",
              "    </tr>\n",
              "    <tr>\n",
              "      <th>1</th>\n",
              "      <td>7218891961</td>\n",
              "      <td>https://fayar.craigslist.org/ctd/d/bentonville...</td>\n",
              "      <td>fayetteville</td>\n",
              "      <td>https://fayar.craigslist.org</td>\n",
              "      <td>11900</td>\n",
              "      <td>NaN</td>\n",
              "      <td>NaN</td>\n",
              "      <td>NaN</td>\n",
              "      <td>NaN</td>\n",
              "      <td>NaN</td>\n",
              "      <td>...</td>\n",
              "      <td>NaN</td>\n",
              "      <td>NaN</td>\n",
              "      <td>NaN</td>\n",
              "      <td>NaN</td>\n",
              "      <td>NaN</td>\n",
              "      <td>NaN</td>\n",
              "      <td>ar</td>\n",
              "      <td>NaN</td>\n",
              "      <td>NaN</td>\n",
              "      <td>NaN</td>\n",
              "    </tr>\n",
              "    <tr>\n",
              "      <th>2</th>\n",
              "      <td>7221797935</td>\n",
              "      <td>https://keys.craigslist.org/cto/d/summerland-k...</td>\n",
              "      <td>florida keys</td>\n",
              "      <td>https://keys.craigslist.org</td>\n",
              "      <td>21000</td>\n",
              "      <td>NaN</td>\n",
              "      <td>NaN</td>\n",
              "      <td>NaN</td>\n",
              "      <td>NaN</td>\n",
              "      <td>NaN</td>\n",
              "      <td>...</td>\n",
              "      <td>NaN</td>\n",
              "      <td>NaN</td>\n",
              "      <td>NaN</td>\n",
              "      <td>NaN</td>\n",
              "      <td>NaN</td>\n",
              "      <td>NaN</td>\n",
              "      <td>fl</td>\n",
              "      <td>NaN</td>\n",
              "      <td>NaN</td>\n",
              "      <td>NaN</td>\n",
              "    </tr>\n",
              "    <tr>\n",
              "      <th>3</th>\n",
              "      <td>7222270760</td>\n",
              "      <td>https://worcester.craigslist.org/cto/d/west-br...</td>\n",
              "      <td>worcester / central MA</td>\n",
              "      <td>https://worcester.craigslist.org</td>\n",
              "      <td>1500</td>\n",
              "      <td>NaN</td>\n",
              "      <td>NaN</td>\n",
              "      <td>NaN</td>\n",
              "      <td>NaN</td>\n",
              "      <td>NaN</td>\n",
              "      <td>...</td>\n",
              "      <td>NaN</td>\n",
              "      <td>NaN</td>\n",
              "      <td>NaN</td>\n",
              "      <td>NaN</td>\n",
              "      <td>NaN</td>\n",
              "      <td>NaN</td>\n",
              "      <td>ma</td>\n",
              "      <td>NaN</td>\n",
              "      <td>NaN</td>\n",
              "      <td>NaN</td>\n",
              "    </tr>\n",
              "    <tr>\n",
              "      <th>4</th>\n",
              "      <td>7210384030</td>\n",
              "      <td>https://greensboro.craigslist.org/cto/d/trinit...</td>\n",
              "      <td>greensboro</td>\n",
              "      <td>https://greensboro.craigslist.org</td>\n",
              "      <td>4900</td>\n",
              "      <td>NaN</td>\n",
              "      <td>NaN</td>\n",
              "      <td>NaN</td>\n",
              "      <td>NaN</td>\n",
              "      <td>NaN</td>\n",
              "      <td>...</td>\n",
              "      <td>NaN</td>\n",
              "      <td>NaN</td>\n",
              "      <td>NaN</td>\n",
              "      <td>NaN</td>\n",
              "      <td>NaN</td>\n",
              "      <td>NaN</td>\n",
              "      <td>nc</td>\n",
              "      <td>NaN</td>\n",
              "      <td>NaN</td>\n",
              "      <td>NaN</td>\n",
              "    </tr>\n",
              "  </tbody>\n",
              "</table>\n",
              "<p>5 rows × 26 columns</p>\n",
              "</div>"
            ]
          },
          "metadata": {},
          "execution_count": 3
        }
      ],
      "source": [
        "car.head()"
      ]
    },
    {
      "cell_type": "code",
      "execution_count": 4,
      "id": "31de9c8e",
      "metadata": {
        "id": "31de9c8e"
      },
      "outputs": [],
      "source": [
        "car.drop([\"url\",\"id\",\"region_url\",\"image_url\",\"description\",\"lat\",\"long\",\"county\",\"VIN\"], axis=1, inplace=True)"
      ]
    },
    {
      "cell_type": "code",
      "execution_count": 5,
      "id": "c4bf9dbf",
      "metadata": {
        "id": "c4bf9dbf"
      },
      "outputs": [],
      "source": [
        "car.dropna(inplace = True)"
      ]
    },
    {
      "cell_type": "code",
      "execution_count": 6,
      "id": "db146970",
      "metadata": {
        "colab": {
          "base_uri": "https://localhost:8080/",
          "height": 293
        },
        "id": "db146970",
        "outputId": "7681b529-2b83-4bd4-8499-ccffb44aecbd"
      },
      "outputs": [
        {
          "output_type": "execute_result",
          "data": {
            "text/plain": [
              "    region  price    year manufacturer                 model  condition  \\\n",
              "31  auburn  15000  2013.0         ford             f-150 xlt  excellent   \n",
              "55  auburn  19900  2004.0         ford       f250 super duty       good   \n",
              "59  auburn  14000  2012.0        honda               odyssey  excellent   \n",
              "65  auburn  22500  2001.0         ford                  f450       good   \n",
              "73  auburn  15000  2017.0        dodge  charger rt 4dr sedan  excellent   \n",
              "\n",
              "      cylinders    fuel  odometer title_status transmission drive       size  \\\n",
              "31  6 cylinders     gas  128000.0        clean    automatic   rwd  full-size   \n",
              "55  8 cylinders  diesel   88000.0        clean    automatic   4wd  full-size   \n",
              "59  6 cylinders     gas   95000.0        clean    automatic   fwd  full-size   \n",
              "65  8 cylinders  diesel  144700.0        clean       manual   rwd  full-size   \n",
              "73  8 cylinders     gas   90000.0      rebuilt    automatic   rwd   mid-size   \n",
              "\n",
              "        type paint_color state              posting_date  \n",
              "31     truck       black    al  2021-05-03T14:02:03-0500  \n",
              "55    pickup        blue    al  2021-04-29T17:19:18-0500  \n",
              "59  mini-van      silver    al  2021-04-27T12:20:01-0500  \n",
              "65     truck       white    al  2021-04-26T11:15:36-0500  \n",
              "73     sedan        grey    al  2021-04-24T18:39:59-0500  "
            ],
            "text/html": [
              "<div>\n",
              "<style scoped>\n",
              "    .dataframe tbody tr th:only-of-type {\n",
              "        vertical-align: middle;\n",
              "    }\n",
              "\n",
              "    .dataframe tbody tr th {\n",
              "        vertical-align: top;\n",
              "    }\n",
              "\n",
              "    .dataframe thead th {\n",
              "        text-align: right;\n",
              "    }\n",
              "</style>\n",
              "<table border=\"1\" class=\"dataframe\">\n",
              "  <thead>\n",
              "    <tr style=\"text-align: right;\">\n",
              "      <th></th>\n",
              "      <th>region</th>\n",
              "      <th>price</th>\n",
              "      <th>year</th>\n",
              "      <th>manufacturer</th>\n",
              "      <th>model</th>\n",
              "      <th>condition</th>\n",
              "      <th>cylinders</th>\n",
              "      <th>fuel</th>\n",
              "      <th>odometer</th>\n",
              "      <th>title_status</th>\n",
              "      <th>transmission</th>\n",
              "      <th>drive</th>\n",
              "      <th>size</th>\n",
              "      <th>type</th>\n",
              "      <th>paint_color</th>\n",
              "      <th>state</th>\n",
              "      <th>posting_date</th>\n",
              "    </tr>\n",
              "  </thead>\n",
              "  <tbody>\n",
              "    <tr>\n",
              "      <th>31</th>\n",
              "      <td>auburn</td>\n",
              "      <td>15000</td>\n",
              "      <td>2013.0</td>\n",
              "      <td>ford</td>\n",
              "      <td>f-150 xlt</td>\n",
              "      <td>excellent</td>\n",
              "      <td>6 cylinders</td>\n",
              "      <td>gas</td>\n",
              "      <td>128000.0</td>\n",
              "      <td>clean</td>\n",
              "      <td>automatic</td>\n",
              "      <td>rwd</td>\n",
              "      <td>full-size</td>\n",
              "      <td>truck</td>\n",
              "      <td>black</td>\n",
              "      <td>al</td>\n",
              "      <td>2021-05-03T14:02:03-0500</td>\n",
              "    </tr>\n",
              "    <tr>\n",
              "      <th>55</th>\n",
              "      <td>auburn</td>\n",
              "      <td>19900</td>\n",
              "      <td>2004.0</td>\n",
              "      <td>ford</td>\n",
              "      <td>f250 super duty</td>\n",
              "      <td>good</td>\n",
              "      <td>8 cylinders</td>\n",
              "      <td>diesel</td>\n",
              "      <td>88000.0</td>\n",
              "      <td>clean</td>\n",
              "      <td>automatic</td>\n",
              "      <td>4wd</td>\n",
              "      <td>full-size</td>\n",
              "      <td>pickup</td>\n",
              "      <td>blue</td>\n",
              "      <td>al</td>\n",
              "      <td>2021-04-29T17:19:18-0500</td>\n",
              "    </tr>\n",
              "    <tr>\n",
              "      <th>59</th>\n",
              "      <td>auburn</td>\n",
              "      <td>14000</td>\n",
              "      <td>2012.0</td>\n",
              "      <td>honda</td>\n",
              "      <td>odyssey</td>\n",
              "      <td>excellent</td>\n",
              "      <td>6 cylinders</td>\n",
              "      <td>gas</td>\n",
              "      <td>95000.0</td>\n",
              "      <td>clean</td>\n",
              "      <td>automatic</td>\n",
              "      <td>fwd</td>\n",
              "      <td>full-size</td>\n",
              "      <td>mini-van</td>\n",
              "      <td>silver</td>\n",
              "      <td>al</td>\n",
              "      <td>2021-04-27T12:20:01-0500</td>\n",
              "    </tr>\n",
              "    <tr>\n",
              "      <th>65</th>\n",
              "      <td>auburn</td>\n",
              "      <td>22500</td>\n",
              "      <td>2001.0</td>\n",
              "      <td>ford</td>\n",
              "      <td>f450</td>\n",
              "      <td>good</td>\n",
              "      <td>8 cylinders</td>\n",
              "      <td>diesel</td>\n",
              "      <td>144700.0</td>\n",
              "      <td>clean</td>\n",
              "      <td>manual</td>\n",
              "      <td>rwd</td>\n",
              "      <td>full-size</td>\n",
              "      <td>truck</td>\n",
              "      <td>white</td>\n",
              "      <td>al</td>\n",
              "      <td>2021-04-26T11:15:36-0500</td>\n",
              "    </tr>\n",
              "    <tr>\n",
              "      <th>73</th>\n",
              "      <td>auburn</td>\n",
              "      <td>15000</td>\n",
              "      <td>2017.0</td>\n",
              "      <td>dodge</td>\n",
              "      <td>charger rt 4dr sedan</td>\n",
              "      <td>excellent</td>\n",
              "      <td>8 cylinders</td>\n",
              "      <td>gas</td>\n",
              "      <td>90000.0</td>\n",
              "      <td>rebuilt</td>\n",
              "      <td>automatic</td>\n",
              "      <td>rwd</td>\n",
              "      <td>mid-size</td>\n",
              "      <td>sedan</td>\n",
              "      <td>grey</td>\n",
              "      <td>al</td>\n",
              "      <td>2021-04-24T18:39:59-0500</td>\n",
              "    </tr>\n",
              "  </tbody>\n",
              "</table>\n",
              "</div>"
            ]
          },
          "metadata": {},
          "execution_count": 6
        }
      ],
      "source": [
        "car.head()"
      ]
    },
    {
      "cell_type": "code",
      "execution_count": 7,
      "id": "72b11f9a",
      "metadata": {
        "colab": {
          "base_uri": "https://localhost:8080/"
        },
        "id": "72b11f9a",
        "outputId": "8703a2b7-1c1b-44ed-b194-25584763327a"
      },
      "outputs": [
        {
          "output_type": "execute_result",
          "data": {
            "text/plain": [
              "(79195, 17)"
            ]
          },
          "metadata": {},
          "execution_count": 7
        }
      ],
      "source": [
        "car.shape"
      ]
    },
    {
      "cell_type": "code",
      "execution_count": 8,
      "id": "c272c3bc",
      "metadata": {
        "id": "c272c3bc"
      },
      "outputs": [],
      "source": [
        "car['post_month']=car['posting_date'].apply(lambda x : x.split('-')[1])"
      ]
    },
    {
      "cell_type": "code",
      "execution_count": 9,
      "id": "734525b4",
      "metadata": {
        "id": "734525b4"
      },
      "outputs": [],
      "source": [
        "car.drop(\"posting_date\", axis=1, inplace=True)"
      ]
    },
    {
      "cell_type": "code",
      "execution_count": 10,
      "id": "7dd91a80",
      "metadata": {
        "scrolled": true,
        "colab": {
          "base_uri": "https://localhost:8080/",
          "height": 206
        },
        "id": "7dd91a80",
        "outputId": "ad681bd5-3a1b-4cde-f2dc-ed0a12735f6e"
      },
      "outputs": [
        {
          "output_type": "execute_result",
          "data": {
            "text/plain": [
              "    region  price    year manufacturer                 model  condition  \\\n",
              "31  auburn  15000  2013.0         ford             f-150 xlt  excellent   \n",
              "55  auburn  19900  2004.0         ford       f250 super duty       good   \n",
              "59  auburn  14000  2012.0        honda               odyssey  excellent   \n",
              "65  auburn  22500  2001.0         ford                  f450       good   \n",
              "73  auburn  15000  2017.0        dodge  charger rt 4dr sedan  excellent   \n",
              "\n",
              "      cylinders    fuel  odometer title_status transmission drive       size  \\\n",
              "31  6 cylinders     gas  128000.0        clean    automatic   rwd  full-size   \n",
              "55  8 cylinders  diesel   88000.0        clean    automatic   4wd  full-size   \n",
              "59  6 cylinders     gas   95000.0        clean    automatic   fwd  full-size   \n",
              "65  8 cylinders  diesel  144700.0        clean       manual   rwd  full-size   \n",
              "73  8 cylinders     gas   90000.0      rebuilt    automatic   rwd   mid-size   \n",
              "\n",
              "        type paint_color state post_month  \n",
              "31     truck       black    al         05  \n",
              "55    pickup        blue    al         04  \n",
              "59  mini-van      silver    al         04  \n",
              "65     truck       white    al         04  \n",
              "73     sedan        grey    al         04  "
            ],
            "text/html": [
              "<div>\n",
              "<style scoped>\n",
              "    .dataframe tbody tr th:only-of-type {\n",
              "        vertical-align: middle;\n",
              "    }\n",
              "\n",
              "    .dataframe tbody tr th {\n",
              "        vertical-align: top;\n",
              "    }\n",
              "\n",
              "    .dataframe thead th {\n",
              "        text-align: right;\n",
              "    }\n",
              "</style>\n",
              "<table border=\"1\" class=\"dataframe\">\n",
              "  <thead>\n",
              "    <tr style=\"text-align: right;\">\n",
              "      <th></th>\n",
              "      <th>region</th>\n",
              "      <th>price</th>\n",
              "      <th>year</th>\n",
              "      <th>manufacturer</th>\n",
              "      <th>model</th>\n",
              "      <th>condition</th>\n",
              "      <th>cylinders</th>\n",
              "      <th>fuel</th>\n",
              "      <th>odometer</th>\n",
              "      <th>title_status</th>\n",
              "      <th>transmission</th>\n",
              "      <th>drive</th>\n",
              "      <th>size</th>\n",
              "      <th>type</th>\n",
              "      <th>paint_color</th>\n",
              "      <th>state</th>\n",
              "      <th>post_month</th>\n",
              "    </tr>\n",
              "  </thead>\n",
              "  <tbody>\n",
              "    <tr>\n",
              "      <th>31</th>\n",
              "      <td>auburn</td>\n",
              "      <td>15000</td>\n",
              "      <td>2013.0</td>\n",
              "      <td>ford</td>\n",
              "      <td>f-150 xlt</td>\n",
              "      <td>excellent</td>\n",
              "      <td>6 cylinders</td>\n",
              "      <td>gas</td>\n",
              "      <td>128000.0</td>\n",
              "      <td>clean</td>\n",
              "      <td>automatic</td>\n",
              "      <td>rwd</td>\n",
              "      <td>full-size</td>\n",
              "      <td>truck</td>\n",
              "      <td>black</td>\n",
              "      <td>al</td>\n",
              "      <td>05</td>\n",
              "    </tr>\n",
              "    <tr>\n",
              "      <th>55</th>\n",
              "      <td>auburn</td>\n",
              "      <td>19900</td>\n",
              "      <td>2004.0</td>\n",
              "      <td>ford</td>\n",
              "      <td>f250 super duty</td>\n",
              "      <td>good</td>\n",
              "      <td>8 cylinders</td>\n",
              "      <td>diesel</td>\n",
              "      <td>88000.0</td>\n",
              "      <td>clean</td>\n",
              "      <td>automatic</td>\n",
              "      <td>4wd</td>\n",
              "      <td>full-size</td>\n",
              "      <td>pickup</td>\n",
              "      <td>blue</td>\n",
              "      <td>al</td>\n",
              "      <td>04</td>\n",
              "    </tr>\n",
              "    <tr>\n",
              "      <th>59</th>\n",
              "      <td>auburn</td>\n",
              "      <td>14000</td>\n",
              "      <td>2012.0</td>\n",
              "      <td>honda</td>\n",
              "      <td>odyssey</td>\n",
              "      <td>excellent</td>\n",
              "      <td>6 cylinders</td>\n",
              "      <td>gas</td>\n",
              "      <td>95000.0</td>\n",
              "      <td>clean</td>\n",
              "      <td>automatic</td>\n",
              "      <td>fwd</td>\n",
              "      <td>full-size</td>\n",
              "      <td>mini-van</td>\n",
              "      <td>silver</td>\n",
              "      <td>al</td>\n",
              "      <td>04</td>\n",
              "    </tr>\n",
              "    <tr>\n",
              "      <th>65</th>\n",
              "      <td>auburn</td>\n",
              "      <td>22500</td>\n",
              "      <td>2001.0</td>\n",
              "      <td>ford</td>\n",
              "      <td>f450</td>\n",
              "      <td>good</td>\n",
              "      <td>8 cylinders</td>\n",
              "      <td>diesel</td>\n",
              "      <td>144700.0</td>\n",
              "      <td>clean</td>\n",
              "      <td>manual</td>\n",
              "      <td>rwd</td>\n",
              "      <td>full-size</td>\n",
              "      <td>truck</td>\n",
              "      <td>white</td>\n",
              "      <td>al</td>\n",
              "      <td>04</td>\n",
              "    </tr>\n",
              "    <tr>\n",
              "      <th>73</th>\n",
              "      <td>auburn</td>\n",
              "      <td>15000</td>\n",
              "      <td>2017.0</td>\n",
              "      <td>dodge</td>\n",
              "      <td>charger rt 4dr sedan</td>\n",
              "      <td>excellent</td>\n",
              "      <td>8 cylinders</td>\n",
              "      <td>gas</td>\n",
              "      <td>90000.0</td>\n",
              "      <td>rebuilt</td>\n",
              "      <td>automatic</td>\n",
              "      <td>rwd</td>\n",
              "      <td>mid-size</td>\n",
              "      <td>sedan</td>\n",
              "      <td>grey</td>\n",
              "      <td>al</td>\n",
              "      <td>04</td>\n",
              "    </tr>\n",
              "  </tbody>\n",
              "</table>\n",
              "</div>"
            ]
          },
          "metadata": {},
          "execution_count": 10
        }
      ],
      "source": [
        "car.head()"
      ]
    },
    {
      "cell_type": "code",
      "execution_count": 11,
      "id": "673b067c",
      "metadata": {
        "colab": {
          "base_uri": "https://localhost:8080/"
        },
        "id": "673b067c",
        "outputId": "dc31ba6b-9632-45c7-e2c6-2bbd778e1b00"
      },
      "outputs": [
        {
          "output_type": "execute_result",
          "data": {
            "text/plain": [
              "array(['clean', 'rebuilt', 'salvage', 'lien', 'missing', 'parts only'],\n",
              "      dtype=object)"
            ]
          },
          "metadata": {},
          "execution_count": 11
        }
      ],
      "source": [
        "car['title_status'].unique()"
      ]
    },
    {
      "cell_type": "code",
      "execution_count": 12,
      "id": "6fe95195",
      "metadata": {
        "colab": {
          "base_uri": "https://localhost:8080/"
        },
        "id": "6fe95195",
        "outputId": "3b38d8ec-a5f3-43be-987f-163919becf08"
      },
      "outputs": [
        {
          "output_type": "execute_result",
          "data": {
            "text/plain": [
              "array(['full-size', 'mid-size', 'compact', 'sub-compact'], dtype=object)"
            ]
          },
          "metadata": {},
          "execution_count": 12
        }
      ],
      "source": [
        "car['size'].unique()"
      ]
    },
    {
      "cell_type": "code",
      "execution_count": 13,
      "id": "1e9f24a0",
      "metadata": {
        "colab": {
          "base_uri": "https://localhost:8080/"
        },
        "id": "1e9f24a0",
        "outputId": "1a96806e-2d6c-47c9-fb89-928bb749e537"
      },
      "outputs": [
        {
          "output_type": "execute_result",
          "data": {
            "text/plain": [
              "array(['excellent', 'good', 'like new', 'new', 'fair', 'salvage'],\n",
              "      dtype=object)"
            ]
          },
          "metadata": {},
          "execution_count": 13
        }
      ],
      "source": [
        "car['condition'].unique()"
      ]
    },
    {
      "cell_type": "code",
      "execution_count": 14,
      "id": "d9a02990",
      "metadata": {
        "id": "d9a02990"
      },
      "outputs": [],
      "source": [
        "car['title_status']=car['title_status'].replace({'clean':6, 'rebuilt':5, 'salvage':4, 'lien':3, 'missing':2, 'parts only':1})\n",
        "car['size']=car['size'].replace({'full-size':4, 'compact':1, 'mid-size':3, 'sub-compact':2})\n",
        "car['condition']=car['condition'].replace({'like new':5, 'excellent':4, 'fair':2, 'good':3, 'new':6, 'salvage':1})"
      ]
    },
    {
      "cell_type": "code",
      "execution_count": 15,
      "id": "6fd8ff20",
      "metadata": {
        "colab": {
          "base_uri": "https://localhost:8080/"
        },
        "id": "6fd8ff20",
        "outputId": "f6d0a909-5b01-48eb-ccfd-9f6199696e55"
      },
      "outputs": [
        {
          "output_type": "stream",
          "name": "stdout",
          "text": [
            "<class 'pandas.core.frame.DataFrame'>\n",
            "Int64Index: 79195 entries, 31 to 426836\n",
            "Data columns (total 17 columns):\n",
            " #   Column        Non-Null Count  Dtype  \n",
            "---  ------        --------------  -----  \n",
            " 0   region        79195 non-null  object \n",
            " 1   price         79195 non-null  int64  \n",
            " 2   year          79195 non-null  float64\n",
            " 3   manufacturer  79195 non-null  object \n",
            " 4   model         79195 non-null  object \n",
            " 5   condition     79195 non-null  int64  \n",
            " 6   cylinders     79195 non-null  object \n",
            " 7   fuel          79195 non-null  object \n",
            " 8   odometer      79195 non-null  float64\n",
            " 9   title_status  79195 non-null  int64  \n",
            " 10  transmission  79195 non-null  object \n",
            " 11  drive         79195 non-null  object \n",
            " 12  size          79195 non-null  int64  \n",
            " 13  type          79195 non-null  object \n",
            " 14  paint_color   79195 non-null  object \n",
            " 15  state         79195 non-null  object \n",
            " 16  post_month    79195 non-null  object \n",
            "dtypes: float64(2), int64(4), object(11)\n",
            "memory usage: 10.9+ MB\n"
          ]
        }
      ],
      "source": [
        "car.info()"
      ]
    },
    {
      "cell_type": "code",
      "execution_count": 16,
      "id": "20b7ad0d",
      "metadata": {
        "scrolled": false,
        "colab": {
          "base_uri": "https://localhost:8080/",
          "height": 206
        },
        "id": "20b7ad0d",
        "outputId": "e9d7b73a-2749-4f25-8b36-3924ccccbfe1"
      },
      "outputs": [
        {
          "output_type": "execute_result",
          "data": {
            "text/plain": [
              "    region  price    year manufacturer                 model  condition  \\\n",
              "31  auburn  15000  2013.0         ford             f-150 xlt          4   \n",
              "55  auburn  19900  2004.0         ford       f250 super duty          3   \n",
              "59  auburn  14000  2012.0        honda               odyssey          4   \n",
              "65  auburn  22500  2001.0         ford                  f450          3   \n",
              "73  auburn  15000  2017.0        dodge  charger rt 4dr sedan          4   \n",
              "\n",
              "      cylinders    fuel  odometer  title_status transmission drive  size  \\\n",
              "31  6 cylinders     gas  128000.0             6    automatic   rwd     4   \n",
              "55  8 cylinders  diesel   88000.0             6    automatic   4wd     4   \n",
              "59  6 cylinders     gas   95000.0             6    automatic   fwd     4   \n",
              "65  8 cylinders  diesel  144700.0             6       manual   rwd     4   \n",
              "73  8 cylinders     gas   90000.0             5    automatic   rwd     3   \n",
              "\n",
              "        type paint_color state post_month  \n",
              "31     truck       black    al         05  \n",
              "55    pickup        blue    al         04  \n",
              "59  mini-van      silver    al         04  \n",
              "65     truck       white    al         04  \n",
              "73     sedan        grey    al         04  "
            ],
            "text/html": [
              "<div>\n",
              "<style scoped>\n",
              "    .dataframe tbody tr th:only-of-type {\n",
              "        vertical-align: middle;\n",
              "    }\n",
              "\n",
              "    .dataframe tbody tr th {\n",
              "        vertical-align: top;\n",
              "    }\n",
              "\n",
              "    .dataframe thead th {\n",
              "        text-align: right;\n",
              "    }\n",
              "</style>\n",
              "<table border=\"1\" class=\"dataframe\">\n",
              "  <thead>\n",
              "    <tr style=\"text-align: right;\">\n",
              "      <th></th>\n",
              "      <th>region</th>\n",
              "      <th>price</th>\n",
              "      <th>year</th>\n",
              "      <th>manufacturer</th>\n",
              "      <th>model</th>\n",
              "      <th>condition</th>\n",
              "      <th>cylinders</th>\n",
              "      <th>fuel</th>\n",
              "      <th>odometer</th>\n",
              "      <th>title_status</th>\n",
              "      <th>transmission</th>\n",
              "      <th>drive</th>\n",
              "      <th>size</th>\n",
              "      <th>type</th>\n",
              "      <th>paint_color</th>\n",
              "      <th>state</th>\n",
              "      <th>post_month</th>\n",
              "    </tr>\n",
              "  </thead>\n",
              "  <tbody>\n",
              "    <tr>\n",
              "      <th>31</th>\n",
              "      <td>auburn</td>\n",
              "      <td>15000</td>\n",
              "      <td>2013.0</td>\n",
              "      <td>ford</td>\n",
              "      <td>f-150 xlt</td>\n",
              "      <td>4</td>\n",
              "      <td>6 cylinders</td>\n",
              "      <td>gas</td>\n",
              "      <td>128000.0</td>\n",
              "      <td>6</td>\n",
              "      <td>automatic</td>\n",
              "      <td>rwd</td>\n",
              "      <td>4</td>\n",
              "      <td>truck</td>\n",
              "      <td>black</td>\n",
              "      <td>al</td>\n",
              "      <td>05</td>\n",
              "    </tr>\n",
              "    <tr>\n",
              "      <th>55</th>\n",
              "      <td>auburn</td>\n",
              "      <td>19900</td>\n",
              "      <td>2004.0</td>\n",
              "      <td>ford</td>\n",
              "      <td>f250 super duty</td>\n",
              "      <td>3</td>\n",
              "      <td>8 cylinders</td>\n",
              "      <td>diesel</td>\n",
              "      <td>88000.0</td>\n",
              "      <td>6</td>\n",
              "      <td>automatic</td>\n",
              "      <td>4wd</td>\n",
              "      <td>4</td>\n",
              "      <td>pickup</td>\n",
              "      <td>blue</td>\n",
              "      <td>al</td>\n",
              "      <td>04</td>\n",
              "    </tr>\n",
              "    <tr>\n",
              "      <th>59</th>\n",
              "      <td>auburn</td>\n",
              "      <td>14000</td>\n",
              "      <td>2012.0</td>\n",
              "      <td>honda</td>\n",
              "      <td>odyssey</td>\n",
              "      <td>4</td>\n",
              "      <td>6 cylinders</td>\n",
              "      <td>gas</td>\n",
              "      <td>95000.0</td>\n",
              "      <td>6</td>\n",
              "      <td>automatic</td>\n",
              "      <td>fwd</td>\n",
              "      <td>4</td>\n",
              "      <td>mini-van</td>\n",
              "      <td>silver</td>\n",
              "      <td>al</td>\n",
              "      <td>04</td>\n",
              "    </tr>\n",
              "    <tr>\n",
              "      <th>65</th>\n",
              "      <td>auburn</td>\n",
              "      <td>22500</td>\n",
              "      <td>2001.0</td>\n",
              "      <td>ford</td>\n",
              "      <td>f450</td>\n",
              "      <td>3</td>\n",
              "      <td>8 cylinders</td>\n",
              "      <td>diesel</td>\n",
              "      <td>144700.0</td>\n",
              "      <td>6</td>\n",
              "      <td>manual</td>\n",
              "      <td>rwd</td>\n",
              "      <td>4</td>\n",
              "      <td>truck</td>\n",
              "      <td>white</td>\n",
              "      <td>al</td>\n",
              "      <td>04</td>\n",
              "    </tr>\n",
              "    <tr>\n",
              "      <th>73</th>\n",
              "      <td>auburn</td>\n",
              "      <td>15000</td>\n",
              "      <td>2017.0</td>\n",
              "      <td>dodge</td>\n",
              "      <td>charger rt 4dr sedan</td>\n",
              "      <td>4</td>\n",
              "      <td>8 cylinders</td>\n",
              "      <td>gas</td>\n",
              "      <td>90000.0</td>\n",
              "      <td>5</td>\n",
              "      <td>automatic</td>\n",
              "      <td>rwd</td>\n",
              "      <td>3</td>\n",
              "      <td>sedan</td>\n",
              "      <td>grey</td>\n",
              "      <td>al</td>\n",
              "      <td>04</td>\n",
              "    </tr>\n",
              "  </tbody>\n",
              "</table>\n",
              "</div>"
            ]
          },
          "metadata": {},
          "execution_count": 16
        }
      ],
      "source": [
        "car.head()"
      ]
    },
    {
      "cell_type": "code",
      "execution_count": 17,
      "id": "162a4c11",
      "metadata": {
        "id": "162a4c11"
      },
      "outputs": [],
      "source": [
        "car['cylinders']=car['cylinders'].apply(lambda x : x.split(' ')[0])"
      ]
    },
    {
      "cell_type": "code",
      "execution_count": 18,
      "id": "e2da6201",
      "metadata": {
        "colab": {
          "base_uri": "https://localhost:8080/"
        },
        "id": "e2da6201",
        "outputId": "8ebc3537-91ec-433e-a084-b2798f2ec531"
      },
      "outputs": [
        {
          "output_type": "execute_result",
          "data": {
            "text/plain": [
              "6        27099\n",
              "4        26093\n",
              "8        24041\n",
              "10         792\n",
              "5          721\n",
              "other      250\n",
              "3          156\n",
              "12          43\n",
              "Name: cylinders, dtype: int64"
            ]
          },
          "metadata": {},
          "execution_count": 18
        }
      ],
      "source": [
        "car['cylinders'].value_counts()"
      ]
    },
    {
      "cell_type": "code",
      "execution_count": 19,
      "id": "fdcad98f",
      "metadata": {
        "colab": {
          "base_uri": "https://localhost:8080/"
        },
        "id": "fdcad98f",
        "outputId": "8ba29fa2-6ddd-4693-fbcd-11393acae3d4"
      },
      "outputs": [
        {
          "output_type": "execute_result",
          "data": {
            "text/plain": [
              "16905.032"
            ]
          },
          "metadata": {},
          "execution_count": 19
        }
      ],
      "source": [
        "car[car['cylinders']=='other']['price'].mean()"
      ]
    },
    {
      "cell_type": "code",
      "execution_count": 20,
      "id": "fb3adf2d",
      "metadata": {
        "colab": {
          "base_uri": "https://localhost:8080/"
        },
        "id": "fb3adf2d",
        "outputId": "0401a7e7-4932-4b4d-8e0c-2dfdc661b4dd"
      },
      "outputs": [
        {
          "output_type": "execute_result",
          "data": {
            "text/plain": [
              "79432.7371298693"
            ]
          },
          "metadata": {},
          "execution_count": 20
        }
      ],
      "source": [
        "car['price'].mean()"
      ]
    },
    {
      "cell_type": "code",
      "execution_count": 21,
      "id": "7b38329b",
      "metadata": {
        "id": "7b38329b"
      },
      "outputs": [],
      "source": [
        "car['cylinders']=car['cylinders'].replace('other','0')"
      ]
    },
    {
      "cell_type": "code",
      "execution_count": 22,
      "id": "ff93f037",
      "metadata": {
        "colab": {
          "base_uri": "https://localhost:8080/"
        },
        "id": "ff93f037",
        "outputId": "aee0cedd-777c-432d-cd98-170f77b6b698"
      },
      "outputs": [
        {
          "output_type": "execute_result",
          "data": {
            "text/plain": [
              "6     27099\n",
              "4     26093\n",
              "8     24041\n",
              "10      792\n",
              "5       721\n",
              "0       250\n",
              "3       156\n",
              "12       43\n",
              "Name: cylinders, dtype: int64"
            ]
          },
          "metadata": {},
          "execution_count": 22
        }
      ],
      "source": [
        "car['cylinders'].value_counts()"
      ]
    },
    {
      "cell_type": "code",
      "execution_count": 23,
      "id": "4d84fe42",
      "metadata": {
        "id": "4d84fe42"
      },
      "outputs": [],
      "source": [
        "car = car.astype({'cylinders':'int64','post_month':'int64','year':'int64','odometer':'int'})"
      ]
    },
    {
      "cell_type": "code",
      "execution_count": 24,
      "id": "8acdf335",
      "metadata": {
        "id": "8acdf335"
      },
      "outputs": [],
      "source": [
        "car=car[car['cylinders']>0]"
      ]
    },
    {
      "cell_type": "code",
      "execution_count": 25,
      "id": "e65dfc1a",
      "metadata": {
        "colab": {
          "base_uri": "https://localhost:8080/"
        },
        "id": "e65dfc1a",
        "outputId": "4727e0ed-9881-4c4f-8e88-7830826e2875"
      },
      "outputs": [
        {
          "output_type": "stream",
          "name": "stdout",
          "text": [
            "<class 'pandas.core.frame.DataFrame'>\n",
            "Int64Index: 78945 entries, 31 to 426836\n",
            "Data columns (total 17 columns):\n",
            " #   Column        Non-Null Count  Dtype \n",
            "---  ------        --------------  ----- \n",
            " 0   region        78945 non-null  object\n",
            " 1   price         78945 non-null  int64 \n",
            " 2   year          78945 non-null  int64 \n",
            " 3   manufacturer  78945 non-null  object\n",
            " 4   model         78945 non-null  object\n",
            " 5   condition     78945 non-null  int64 \n",
            " 6   cylinders     78945 non-null  int64 \n",
            " 7   fuel          78945 non-null  object\n",
            " 8   odometer      78945 non-null  int32 \n",
            " 9   title_status  78945 non-null  int64 \n",
            " 10  transmission  78945 non-null  object\n",
            " 11  drive         78945 non-null  object\n",
            " 12  size          78945 non-null  int64 \n",
            " 13  type          78945 non-null  object\n",
            " 14  paint_color   78945 non-null  object\n",
            " 15  state         78945 non-null  object\n",
            " 16  post_month    78945 non-null  int64 \n",
            "dtypes: int32(1), int64(7), object(9)\n",
            "memory usage: 10.5+ MB\n"
          ]
        }
      ],
      "source": [
        "car.info()"
      ]
    },
    {
      "cell_type": "code",
      "execution_count": 26,
      "id": "9d294f52",
      "metadata": {
        "colab": {
          "base_uri": "https://localhost:8080/",
          "height": 363
        },
        "id": "9d294f52",
        "outputId": "dd2dfccf-5adf-4250-a5db-671a7987c962"
      },
      "outputs": [
        {
          "output_type": "execute_result",
          "data": {
            "text/plain": [
              "     region  price  year manufacturer                 model  condition  \\\n",
              "31   auburn  15000  2013         ford             f-150 xlt          4   \n",
              "55   auburn  19900  2004         ford       f250 super duty          3   \n",
              "59   auburn  14000  2012        honda               odyssey          4   \n",
              "65   auburn  22500  2001         ford                  f450          3   \n",
              "73   auburn  15000  2017        dodge  charger rt 4dr sedan          4   \n",
              "86   auburn   3000  2004     chrysler        town & country          3   \n",
              "110  auburn   9500  2003     chrysler        town & country          4   \n",
              "119  auburn  17500  2008       toyota            fj cruiser          3   \n",
              "126  auburn      0  2018    chevrolet     express cargo van          5   \n",
              "127  auburn      0  2019    chevrolet     express cargo van          5   \n",
              "\n",
              "     cylinders    fuel  odometer  title_status transmission drive  size  \\\n",
              "31           6     gas    128000             6    automatic   rwd     4   \n",
              "55           8  diesel     88000             6    automatic   4wd     4   \n",
              "59           6     gas     95000             6    automatic   fwd     4   \n",
              "65           8  diesel    144700             6       manual   rwd     4   \n",
              "73           8     gas     90000             5    automatic   rwd     3   \n",
              "86           6     gas    176144             6    automatic   fwd     3   \n",
              "110          6     gas     30376             6    automatic   fwd     3   \n",
              "119          6     gas    201300             6       manual   4wd     4   \n",
              "126          6     gas     68472             6    automatic   rwd     4   \n",
              "127          6     gas     69125             6    automatic   rwd     4   \n",
              "\n",
              "         type paint_color state  post_month  \n",
              "31      truck       black    al           5  \n",
              "55     pickup        blue    al           4  \n",
              "59   mini-van      silver    al           4  \n",
              "65      truck       white    al           4  \n",
              "73      sedan        grey    al           4  \n",
              "86   mini-van      silver    al           4  \n",
              "110  mini-van        blue    al           4  \n",
              "119   offroad       black    al           4  \n",
              "126       van       white    al           4  \n",
              "127       van       white    al           4  "
            ],
            "text/html": [
              "<div>\n",
              "<style scoped>\n",
              "    .dataframe tbody tr th:only-of-type {\n",
              "        vertical-align: middle;\n",
              "    }\n",
              "\n",
              "    .dataframe tbody tr th {\n",
              "        vertical-align: top;\n",
              "    }\n",
              "\n",
              "    .dataframe thead th {\n",
              "        text-align: right;\n",
              "    }\n",
              "</style>\n",
              "<table border=\"1\" class=\"dataframe\">\n",
              "  <thead>\n",
              "    <tr style=\"text-align: right;\">\n",
              "      <th></th>\n",
              "      <th>region</th>\n",
              "      <th>price</th>\n",
              "      <th>year</th>\n",
              "      <th>manufacturer</th>\n",
              "      <th>model</th>\n",
              "      <th>condition</th>\n",
              "      <th>cylinders</th>\n",
              "      <th>fuel</th>\n",
              "      <th>odometer</th>\n",
              "      <th>title_status</th>\n",
              "      <th>transmission</th>\n",
              "      <th>drive</th>\n",
              "      <th>size</th>\n",
              "      <th>type</th>\n",
              "      <th>paint_color</th>\n",
              "      <th>state</th>\n",
              "      <th>post_month</th>\n",
              "    </tr>\n",
              "  </thead>\n",
              "  <tbody>\n",
              "    <tr>\n",
              "      <th>31</th>\n",
              "      <td>auburn</td>\n",
              "      <td>15000</td>\n",
              "      <td>2013</td>\n",
              "      <td>ford</td>\n",
              "      <td>f-150 xlt</td>\n",
              "      <td>4</td>\n",
              "      <td>6</td>\n",
              "      <td>gas</td>\n",
              "      <td>128000</td>\n",
              "      <td>6</td>\n",
              "      <td>automatic</td>\n",
              "      <td>rwd</td>\n",
              "      <td>4</td>\n",
              "      <td>truck</td>\n",
              "      <td>black</td>\n",
              "      <td>al</td>\n",
              "      <td>5</td>\n",
              "    </tr>\n",
              "    <tr>\n",
              "      <th>55</th>\n",
              "      <td>auburn</td>\n",
              "      <td>19900</td>\n",
              "      <td>2004</td>\n",
              "      <td>ford</td>\n",
              "      <td>f250 super duty</td>\n",
              "      <td>3</td>\n",
              "      <td>8</td>\n",
              "      <td>diesel</td>\n",
              "      <td>88000</td>\n",
              "      <td>6</td>\n",
              "      <td>automatic</td>\n",
              "      <td>4wd</td>\n",
              "      <td>4</td>\n",
              "      <td>pickup</td>\n",
              "      <td>blue</td>\n",
              "      <td>al</td>\n",
              "      <td>4</td>\n",
              "    </tr>\n",
              "    <tr>\n",
              "      <th>59</th>\n",
              "      <td>auburn</td>\n",
              "      <td>14000</td>\n",
              "      <td>2012</td>\n",
              "      <td>honda</td>\n",
              "      <td>odyssey</td>\n",
              "      <td>4</td>\n",
              "      <td>6</td>\n",
              "      <td>gas</td>\n",
              "      <td>95000</td>\n",
              "      <td>6</td>\n",
              "      <td>automatic</td>\n",
              "      <td>fwd</td>\n",
              "      <td>4</td>\n",
              "      <td>mini-van</td>\n",
              "      <td>silver</td>\n",
              "      <td>al</td>\n",
              "      <td>4</td>\n",
              "    </tr>\n",
              "    <tr>\n",
              "      <th>65</th>\n",
              "      <td>auburn</td>\n",
              "      <td>22500</td>\n",
              "      <td>2001</td>\n",
              "      <td>ford</td>\n",
              "      <td>f450</td>\n",
              "      <td>3</td>\n",
              "      <td>8</td>\n",
              "      <td>diesel</td>\n",
              "      <td>144700</td>\n",
              "      <td>6</td>\n",
              "      <td>manual</td>\n",
              "      <td>rwd</td>\n",
              "      <td>4</td>\n",
              "      <td>truck</td>\n",
              "      <td>white</td>\n",
              "      <td>al</td>\n",
              "      <td>4</td>\n",
              "    </tr>\n",
              "    <tr>\n",
              "      <th>73</th>\n",
              "      <td>auburn</td>\n",
              "      <td>15000</td>\n",
              "      <td>2017</td>\n",
              "      <td>dodge</td>\n",
              "      <td>charger rt 4dr sedan</td>\n",
              "      <td>4</td>\n",
              "      <td>8</td>\n",
              "      <td>gas</td>\n",
              "      <td>90000</td>\n",
              "      <td>5</td>\n",
              "      <td>automatic</td>\n",
              "      <td>rwd</td>\n",
              "      <td>3</td>\n",
              "      <td>sedan</td>\n",
              "      <td>grey</td>\n",
              "      <td>al</td>\n",
              "      <td>4</td>\n",
              "    </tr>\n",
              "    <tr>\n",
              "      <th>86</th>\n",
              "      <td>auburn</td>\n",
              "      <td>3000</td>\n",
              "      <td>2004</td>\n",
              "      <td>chrysler</td>\n",
              "      <td>town &amp; country</td>\n",
              "      <td>3</td>\n",
              "      <td>6</td>\n",
              "      <td>gas</td>\n",
              "      <td>176144</td>\n",
              "      <td>6</td>\n",
              "      <td>automatic</td>\n",
              "      <td>fwd</td>\n",
              "      <td>3</td>\n",
              "      <td>mini-van</td>\n",
              "      <td>silver</td>\n",
              "      <td>al</td>\n",
              "      <td>4</td>\n",
              "    </tr>\n",
              "    <tr>\n",
              "      <th>110</th>\n",
              "      <td>auburn</td>\n",
              "      <td>9500</td>\n",
              "      <td>2003</td>\n",
              "      <td>chrysler</td>\n",
              "      <td>town &amp; country</td>\n",
              "      <td>4</td>\n",
              "      <td>6</td>\n",
              "      <td>gas</td>\n",
              "      <td>30376</td>\n",
              "      <td>6</td>\n",
              "      <td>automatic</td>\n",
              "      <td>fwd</td>\n",
              "      <td>3</td>\n",
              "      <td>mini-van</td>\n",
              "      <td>blue</td>\n",
              "      <td>al</td>\n",
              "      <td>4</td>\n",
              "    </tr>\n",
              "    <tr>\n",
              "      <th>119</th>\n",
              "      <td>auburn</td>\n",
              "      <td>17500</td>\n",
              "      <td>2008</td>\n",
              "      <td>toyota</td>\n",
              "      <td>fj cruiser</td>\n",
              "      <td>3</td>\n",
              "      <td>6</td>\n",
              "      <td>gas</td>\n",
              "      <td>201300</td>\n",
              "      <td>6</td>\n",
              "      <td>manual</td>\n",
              "      <td>4wd</td>\n",
              "      <td>4</td>\n",
              "      <td>offroad</td>\n",
              "      <td>black</td>\n",
              "      <td>al</td>\n",
              "      <td>4</td>\n",
              "    </tr>\n",
              "    <tr>\n",
              "      <th>126</th>\n",
              "      <td>auburn</td>\n",
              "      <td>0</td>\n",
              "      <td>2018</td>\n",
              "      <td>chevrolet</td>\n",
              "      <td>express cargo van</td>\n",
              "      <td>5</td>\n",
              "      <td>6</td>\n",
              "      <td>gas</td>\n",
              "      <td>68472</td>\n",
              "      <td>6</td>\n",
              "      <td>automatic</td>\n",
              "      <td>rwd</td>\n",
              "      <td>4</td>\n",
              "      <td>van</td>\n",
              "      <td>white</td>\n",
              "      <td>al</td>\n",
              "      <td>4</td>\n",
              "    </tr>\n",
              "    <tr>\n",
              "      <th>127</th>\n",
              "      <td>auburn</td>\n",
              "      <td>0</td>\n",
              "      <td>2019</td>\n",
              "      <td>chevrolet</td>\n",
              "      <td>express cargo van</td>\n",
              "      <td>5</td>\n",
              "      <td>6</td>\n",
              "      <td>gas</td>\n",
              "      <td>69125</td>\n",
              "      <td>6</td>\n",
              "      <td>automatic</td>\n",
              "      <td>rwd</td>\n",
              "      <td>4</td>\n",
              "      <td>van</td>\n",
              "      <td>white</td>\n",
              "      <td>al</td>\n",
              "      <td>4</td>\n",
              "    </tr>\n",
              "  </tbody>\n",
              "</table>\n",
              "</div>"
            ]
          },
          "metadata": {},
          "execution_count": 26
        }
      ],
      "source": [
        "car.head(10)"
      ]
    },
    {
      "cell_type": "code",
      "execution_count": 27,
      "id": "be44396e",
      "metadata": {
        "colab": {
          "base_uri": "https://localhost:8080/",
          "height": 290
        },
        "id": "be44396e",
        "outputId": "c11a7b1c-9034-4930-8b53-0e93af835114"
      },
      "outputs": [
        {
          "output_type": "display_data",
          "data": {
            "text/plain": [
              "<Figure size 432x288 with 1 Axes>"
            ],
            "image/png": "[encoded data removed]"
          },
          "metadata": {
            "needs_background": "light"
          }
        }
      ],
      "source": [
        "sns.distplot(car.price,color='black')\n",
        "plt.show()"
      ]
    },
    {
      "cell_type": "code",
      "execution_count": 28,
      "id": "e127374e",
      "metadata": {
        "scrolled": true,
        "colab": {
          "base_uri": "https://localhost:8080/"
        },
        "id": "e127374e",
        "outputId": "d3ef965b-d057-43ee-8264-074652a85f26"
      },
      "outputs": [
        {
          "output_type": "execute_result",
          "data": {
            "text/plain": [
              "count    7.894500e+04\n",
              "mean     7.963075e+04\n",
              "std      1.389771e+07\n",
              "min      0.000000e+00\n",
              "25%      4.950000e+03\n",
              "50%      9.000000e+03\n",
              "75%      1.750000e+04\n",
              "85%      2.475000e+04\n",
              "90%      2.990000e+04\n",
              "99%      5.599500e+04\n",
              "100%     3.736929e+09\n",
              "max      3.736929e+09\n",
              "Name: price, dtype: float64"
            ]
          },
          "metadata": {},
          "execution_count": 28
        }
      ],
      "source": [
        "car.price.describe(percentiles = [0.25,0.50,0.75,0.85,0.90,0.99,1])"
      ]
    },
    {
      "cell_type": "code",
      "execution_count": 29,
      "id": "a5a0c65a",
      "metadata": {
        "colab": {
          "base_uri": "https://localhost:8080/"
        },
        "id": "a5a0c65a",
        "outputId": "a530925e-2c92-4a71-94c4-028dee8f0dc9"
      },
      "outputs": [
        {
          "output_type": "execute_result",
          "data": {
            "text/plain": [
              "29386     1111111111\n",
              "68935        2000000\n",
              "136516      17000000\n",
              "137807     123456789\n",
              "155421       1234567\n",
              "219241       1111111\n",
              "230753     135008900\n",
              "307488     123456789\n",
              "318592    3736928711\n",
              "Name: price, dtype: int64"
            ]
          },
          "metadata": {},
          "execution_count": 29
        }
      ],
      "source": [
        "car[car['price']>999999]['price']"
      ]
    },
    {
      "cell_type": "code",
      "execution_count": 30,
      "id": "c791cf19",
      "metadata": {
        "id": "c791cf19"
      },
      "outputs": [],
      "source": [
        "car=car[car['price']<=999999]"
      ]
    },
    {
      "cell_type": "code",
      "execution_count": 31,
      "id": "23cc473c",
      "metadata": {
        "id": "23cc473c"
      },
      "outputs": [],
      "source": [
        "# car=car[car['price']<np.percentile(car['price'],99)]"
      ]
    },
    {
      "cell_type": "code",
      "execution_count": 32,
      "id": "f4b1f036",
      "metadata": {
        "colab": {
          "base_uri": "https://localhost:8080/",
          "height": 290
        },
        "id": "f4b1f036",
        "outputId": "afd2bdf8-3f5b-462d-8509-a893953b3576"
      },
      "outputs": [
        {
          "output_type": "display_data",
          "data": {
            "text/plain": [
              "<Figure size 432x288 with 1 Axes>"
            ],
            "image/png": "[encoded data removed]"
          },
          "metadata": {
            "needs_background": "light"
          }
        }
      ],
      "source": [
        "sns.distplot(car.price,color='black')\n",
        "plt.show()"
      ]
    },
    {
      "cell_type": "code",
      "execution_count": 33,
      "id": "139cdf17",
      "metadata": {
        "scrolled": false,
        "colab": {
          "base_uri": "https://localhost:8080/"
        },
        "id": "139cdf17",
        "outputId": "1fffd70b-4306-40ef-833e-8fbd5abf607e"
      },
      "outputs": [
        {
          "output_type": "execute_result",
          "data": {
            "text/plain": [
              "count     78936.000000\n",
              "mean      13113.679196\n",
              "std       12505.109690\n",
              "min           0.000000\n",
              "25%        4950.000000\n",
              "50%        9000.000000\n",
              "75%       17500.000000\n",
              "85%       24686.250000\n",
              "90%       29900.000000\n",
              "99%       55900.000000\n",
              "100%     195000.000000\n",
              "max      195000.000000\n",
              "Name: price, dtype: float64"
            ]
          },
          "metadata": {},
          "execution_count": 33
        }
      ],
      "source": [
        "car.price.describe(percentiles = [0.25,0.50,0.75,0.85,0.90,0.99,1])"
      ]
    },
    {
      "cell_type": "code",
      "execution_count": 34,
      "id": "e27cd359",
      "metadata": {
        "scrolled": false,
        "id": "e27cd359"
      },
      "outputs": [],
      "source": [
        "# sns.distplot(car.odometer,color='black')\n",
        "# plt.show()"
      ]
    },
    {
      "cell_type": "code",
      "execution_count": 35,
      "id": "b4cef1e7",
      "metadata": {
        "scrolled": false,
        "id": "b4cef1e7"
      },
      "outputs": [],
      "source": [
        "# car['odometer'].describe(percentiles = [0.25,0.50,0.75,0.85,0.90,0.99,0.995,0.9990,1])"
      ]
    },
    {
      "cell_type": "code",
      "execution_count": 36,
      "id": "a9df5600",
      "metadata": {
        "id": "a9df5600"
      },
      "outputs": [],
      "source": [
        "# car[car['odometer']>2e+06]['odometer']"
      ]
    },
    {
      "cell_type": "code",
      "execution_count": 37,
      "id": "fb8792dc",
      "metadata": {
        "id": "fb8792dc"
      },
      "outputs": [],
      "source": [
        "# car=car[car['odometer']<2e+06]"
      ]
    },
    {
      "cell_type": "code",
      "execution_count": 38,
      "id": "920179a1",
      "metadata": {
        "scrolled": false,
        "id": "920179a1"
      },
      "outputs": [],
      "source": [
        "# sns.distplot(car.odometer,color='black')\n",
        "# plt.show()"
      ]
    },
    {
      "cell_type": "code",
      "execution_count": 39,
      "id": "6070654c",
      "metadata": {
        "colab": {
          "base_uri": "https://localhost:8080/"
        },
        "id": "6070654c",
        "outputId": "8b6942be-ce62-48fc-bd89-9461b67ba614"
      },
      "outputs": [
        {
          "output_type": "execute_result",
          "data": {
            "text/plain": [
              "9479"
            ]
          },
          "metadata": {},
          "execution_count": 39
        }
      ],
      "source": [
        "car['model'].nunique()"
      ]
    },
    {
      "cell_type": "code",
      "execution_count": 40,
      "id": "0b0581bf",
      "metadata": {
        "colab": {
          "base_uri": "https://localhost:8080/"
        },
        "id": "0b0581bf",
        "outputId": "40d8f656-5df8-4729-f19c-66e83fbcf1c2"
      },
      "outputs": [
        {
          "output_type": "execute_result",
          "data": {
            "text/plain": [
              "403"
            ]
          },
          "metadata": {},
          "execution_count": 40
        }
      ],
      "source": [
        "car['region'].nunique()"
      ]
    },
    {
      "cell_type": "code",
      "execution_count": 41,
      "id": "d3cc7551",
      "metadata": {
        "id": "d3cc7551"
      },
      "outputs": [],
      "source": [
        "car['model_counts']=car['model'].map(car['model'].value_counts())\n",
        "car['region_counts']=car['region'].map(car['region'].value_counts())"
      ]
    },
    {
      "cell_type": "code",
      "execution_count": 42,
      "id": "fee97f57",
      "metadata": {
        "scrolled": true,
        "colab": {
          "base_uri": "https://localhost:8080/",
          "height": 313
        },
        "id": "fee97f57",
        "outputId": "2780b3d3-3376-4892-93fb-56cdcb380b12"
      },
      "outputs": [
        {
          "output_type": "execute_result",
          "data": {
            "text/plain": [
              "    region  price  year manufacturer                 model  condition  \\\n",
              "31  auburn  15000  2013         ford             f-150 xlt          4   \n",
              "55  auburn  19900  2004         ford       f250 super duty          3   \n",
              "59  auburn  14000  2012        honda               odyssey          4   \n",
              "65  auburn  22500  2001         ford                  f450          3   \n",
              "73  auburn  15000  2017        dodge  charger rt 4dr sedan          4   \n",
              "\n",
              "    cylinders    fuel  odometer  title_status transmission drive  size  \\\n",
              "31          6     gas    128000             6    automatic   rwd     4   \n",
              "55          8  diesel     88000             6    automatic   4wd     4   \n",
              "59          6     gas     95000             6    automatic   fwd     4   \n",
              "65          8  diesel    144700             6       manual   rwd     4   \n",
              "73          8     gas     90000             5    automatic   rwd     3   \n",
              "\n",
              "        type paint_color state  post_month  model_counts  region_counts  \n",
              "31     truck       black    al           5           126             12  \n",
              "55    pickup        blue    al           4           168             12  \n",
              "59  mini-van      silver    al           4           279             12  \n",
              "65     truck       white    al           4            35             12  \n",
              "73     sedan        grey    al           4             1             12  "
            ],
            "text/html": [
              "<div>\n",
              "<style scoped>\n",
              "    .dataframe tbody tr th:only-of-type {\n",
              "        vertical-align: middle;\n",
              "    }\n",
              "\n",
              "    .dataframe tbody tr th {\n",
              "        vertical-align: top;\n",
              "    }\n",
              "\n",
              "    .dataframe thead th {\n",
              "        text-align: right;\n",
              "    }\n",
              "</style>\n",
              "<table border=\"1\" class=\"dataframe\">\n",
              "  <thead>\n",
              "    <tr style=\"text-align: right;\">\n",
              "      <th></th>\n",
              "      <th>region</th>\n",
              "      <th>price</th>\n",
              "      <th>year</th>\n",
              "      <th>manufacturer</th>\n",
              "      <th>model</th>\n",
              "      <th>condition</th>\n",
              "      <th>cylinders</th>\n",
              "      <th>fuel</th>\n",
              "      <th>odometer</th>\n",
              "      <th>title_status</th>\n",
              "      <th>transmission</th>\n",
              "      <th>drive</th>\n",
              "      <th>size</th>\n",
              "      <th>type</th>\n",
              "      <th>paint_color</th>\n",
              "      <th>state</th>\n",
              "      <th>post_month</th>\n",
              "      <th>model_counts</th>\n",
              "      <th>region_counts</th>\n",
              "    </tr>\n",
              "  </thead>\n",
              "  <tbody>\n",
              "    <tr>\n",
              "      <th>31</th>\n",
              "      <td>auburn</td>\n",
              "      <td>15000</td>\n",
              "      <td>2013</td>\n",
              "      <td>ford</td>\n",
              "      <td>f-150 xlt</td>\n",
              "      <td>4</td>\n",
              "      <td>6</td>\n",
              "      <td>gas</td>\n",
              "      <td>128000</td>\n",
              "      <td>6</td>\n",
              "      <td>automatic</td>\n",
              "      <td>rwd</td>\n",
              "      <td>4</td>\n",
              "      <td>truck</td>\n",
              "      <td>black</td>\n",
              "      <td>al</td>\n",
              "      <td>5</td>\n",
              "      <td>126</td>\n",
              "      <td>12</td>\n",
              "    </tr>\n",
              "    <tr>\n",
              "      <th>55</th>\n",
              "      <td>auburn</td>\n",
              "      <td>19900</td>\n",
              "      <td>2004</td>\n",
              "      <td>ford</td>\n",
              "      <td>f250 super duty</td>\n",
              "      <td>3</td>\n",
              "      <td>8</td>\n",
              "      <td>diesel</td>\n",
              "      <td>88000</td>\n",
              "      <td>6</td>\n",
              "      <td>automatic</td>\n",
              "      <td>4wd</td>\n",
              "      <td>4</td>\n",
              "      <td>pickup</td>\n",
              "      <td>blue</td>\n",
              "      <td>al</td>\n",
              "      <td>4</td>\n",
              "      <td>168</td>\n",
              "      <td>12</td>\n",
              "    </tr>\n",
              "    <tr>\n",
              "      <th>59</th>\n",
              "      <td>auburn</td>\n",
              "      <td>14000</td>\n",
              "      <td>2012</td>\n",
              "      <td>honda</td>\n",
              "      <td>odyssey</td>\n",
              "      <td>4</td>\n",
              "      <td>6</td>\n",
              "      <td>gas</td>\n",
              "      <td>95000</td>\n",
              "      <td>6</td>\n",
              "      <td>automatic</td>\n",
              "      <td>fwd</td>\n",
              "      <td>4</td>\n",
              "      <td>mini-van</td>\n",
              "      <td>silver</td>\n",
              "      <td>al</td>\n",
              "      <td>4</td>\n",
              "      <td>279</td>\n",
              "      <td>12</td>\n",
              "    </tr>\n",
              "    <tr>\n",
              "      <th>65</th>\n",
              "      <td>auburn</td>\n",
              "      <td>22500</td>\n",
              "      <td>2001</td>\n",
              "      <td>ford</td>\n",
              "      <td>f450</td>\n",
              "      <td>3</td>\n",
              "      <td>8</td>\n",
              "      <td>diesel</td>\n",
              "      <td>144700</td>\n",
              "      <td>6</td>\n",
              "      <td>manual</td>\n",
              "      <td>rwd</td>\n",
              "      <td>4</td>\n",
              "      <td>truck</td>\n",
              "      <td>white</td>\n",
              "      <td>al</td>\n",
              "      <td>4</td>\n",
              "      <td>35</td>\n",
              "      <td>12</td>\n",
              "    </tr>\n",
              "    <tr>\n",
              "      <th>73</th>\n",
              "      <td>auburn</td>\n",
              "      <td>15000</td>\n",
              "      <td>2017</td>\n",
              "      <td>dodge</td>\n",
              "      <td>charger rt 4dr sedan</td>\n",
              "      <td>4</td>\n",
              "      <td>8</td>\n",
              "      <td>gas</td>\n",
              "      <td>90000</td>\n",
              "      <td>5</td>\n",
              "      <td>automatic</td>\n",
              "      <td>rwd</td>\n",
              "      <td>3</td>\n",
              "      <td>sedan</td>\n",
              "      <td>grey</td>\n",
              "      <td>al</td>\n",
              "      <td>4</td>\n",
              "      <td>1</td>\n",
              "      <td>12</td>\n",
              "    </tr>\n",
              "  </tbody>\n",
              "</table>\n",
              "</div>"
            ]
          },
          "metadata": {},
          "execution_count": 42
        }
      ],
      "source": [
        "car.head()"
      ]
    },
    {
      "cell_type": "code",
      "execution_count": 43,
      "id": "cea2d627",
      "metadata": {
        "id": "cea2d627"
      },
      "outputs": [],
      "source": [
        "car['model_rarity'] = car['model_counts'].rank(method='min').apply(lambda x: 100.0-100.0*(x-1)/(car['model_counts'].size-1))\n",
        "car['region_availability'] = car['region_counts'].rank(method='max').apply(lambda x: 100.0*(x-1)/(car['region_counts'].size-1))"
      ]
    },
    {
      "cell_type": "code",
      "execution_count": 44,
      "id": "ab368593",
      "metadata": {
        "scrolled": false,
        "id": "ab368593"
      },
      "outputs": [],
      "source": [
        "#car['model_counts'].loc[car.model_counts!=1].describe(percentiles = [0.20,0.40,0.60,0.80,1])"
      ]
    },
    {
      "cell_type": "code",
      "execution_count": 45,
      "id": "af14b701",
      "metadata": {
        "id": "af14b701"
      },
      "outputs": [],
      "source": [
        "# def model_r(car):\n",
        "#     if car['model_counts']==1:\n",
        "#         return 6\n",
        "#     elif car['model_counts']<=12:\n",
        "#         return 5\n",
        "#     elif car['model_counts']<=40:\n",
        "#         return 4\n",
        "#     elif car['model_counts']<=76:\n",
        "#         return 3\n",
        "#     elif car['model_counts']<=129:\n",
        "#         return 2\n",
        "#     elif car['model_counts']<=302:\n",
        "#         return 1\n",
        "#     return 0\n",
        "\n",
        "# car['model_rarity']=car.apply(lambda car: model_r(car), axis=1)"
      ]
    },
    {
      "cell_type": "code",
      "execution_count": 46,
      "id": "2bf73e4c",
      "metadata": {
        "scrolled": true,
        "colab": {
          "base_uri": "https://localhost:8080/"
        },
        "id": "2bf73e4c",
        "outputId": "10f3a103-e19b-4a79-f49e-98e049cc31f1"
      },
      "outputs": [
        {
          "output_type": "execute_result",
          "data": {
            "text/plain": [
              "array(['ford', 'honda', 'dodge', 'chrysler', 'toyota', 'chevrolet',\n",
              "       'jeep', 'lexus', 'bmw', 'gmc', 'mercedes-benz', 'mazda', 'ram',\n",
              "       'nissan', 'ferrari', 'audi', 'mitsubishi', 'infiniti',\n",
              "       'volkswagen', 'kia', 'hyundai', 'fiat', 'acura', 'cadillac',\n",
              "       'lincoln', 'jaguar', 'saturn', 'volvo', 'alfa-romeo', 'buick',\n",
              "       'subaru', 'mini', 'pontiac', 'rover', 'porsche', 'harley-davidson',\n",
              "       'mercury', 'datsun', 'land rover', 'aston-martin', 'tesla'],\n",
              "      dtype=object)"
            ]
          },
          "metadata": {},
          "execution_count": 46
        }
      ],
      "source": [
        "car['manufacturer'].unique()"
      ]
    },
    {
      "cell_type": "code",
      "execution_count": 47,
      "id": "22119fea",
      "metadata": {
        "scrolled": true,
        "colab": {
          "base_uri": "https://localhost:8080/"
        },
        "id": "22119fea",
        "outputId": "4d3eab9c-3f4d-4842-ed35-f51f10b71b44"
      },
      "outputs": [
        {
          "output_type": "execute_result",
          "data": {
            "text/plain": [
              "array(['al', 'ak', 'az', 'ar', 'ca', 'co', 'ct', 'dc', 'de', 'fl', 'ga',\n",
              "       'hi', 'id', 'il', 'in', 'ia', 'ks', 'ky', 'la', 'me', 'md', 'ma',\n",
              "       'mi', 'mn', 'ms', 'mo', 'mt', 'nc', 'ne', 'nv', 'nj', 'nm', 'ny',\n",
              "       'nh', 'nd', 'oh', 'ok', 'or', 'pa', 'ri', 'sc', 'sd', 'tn', 'tx',\n",
              "       'ut', 'vt', 'va', 'wa', 'wv', 'wi', 'wy'], dtype=object)"
            ]
          },
          "metadata": {},
          "execution_count": 47
        }
      ],
      "source": [
        "car['state'].unique()"
      ]
    },
    {
      "cell_type": "code",
      "execution_count": 48,
      "id": "66fc1b0f",
      "metadata": {
        "colab": {
          "base_uri": "https://localhost:8080/"
        },
        "id": "66fc1b0f",
        "outputId": "3ef2faf1-1c99-4472-e0f6-319eef2f47c7"
      },
      "outputs": [
        {
          "output_type": "execute_result",
          "data": {
            "text/plain": [
              "array(['black', 'blue', 'silver', 'white', 'grey', 'yellow', 'red',\n",
              "       'green', 'brown', 'custom', 'purple', 'orange'], dtype=object)"
            ]
          },
          "metadata": {},
          "execution_count": 48
        }
      ],
      "source": [
        "car['paint_color'].unique()"
      ]
    },
    {
      "cell_type": "code",
      "execution_count": 49,
      "id": "6e76a905",
      "metadata": {
        "id": "6e76a905"
      },
      "outputs": [],
      "source": [
        "car.rename(columns={'title_status':'status','fuel':'fuel_type','odometer':'odometer_reading','cylinders':'cylinder_number','drive':'drive_type','type':'body_type'},inplace=True)"
      ]
    },
    {
      "cell_type": "code",
      "execution_count": 50,
      "id": "a0fdf537",
      "metadata": {
        "id": "a0fdf537"
      },
      "outputs": [],
      "source": [
        "car.drop(['post_month','model','state','region','model_counts','region_counts'], axis=1, inplace=True)"
      ]
    },
    {
      "cell_type": "code",
      "execution_count": 51,
      "id": "5dfd01a3",
      "metadata": {
        "scrolled": true,
        "colab": {
          "base_uri": "https://localhost:8080/",
          "height": 461
        },
        "id": "5dfd01a3",
        "outputId": "9878538a-3df6-4a93-ed4c-83fbeb998c15"
      },
      "outputs": [
        {
          "output_type": "execute_result",
          "data": {
            "text/plain": [
              "        price  year   manufacturer  condition  cylinder_number fuel_type  \\\n",
              "570     19888  2015  mercedes-benz          4                6       gas   \n",
              "571     31888  2015            gmc          3                8       gas   \n",
              "580     16888  2008         toyota          3                6       gas   \n",
              "629     16888  2008         toyota          3                6       gas   \n",
              "651      8950  2011           ford          4                6       gas   \n",
              "...       ...   ...            ...        ...              ...       ...   \n",
              "426785  23495  2015           ford          5                8       gas   \n",
              "426788  12995  2016      chevrolet          5                4       gas   \n",
              "426792  32999  2014           ford          4                8    diesel   \n",
              "426793  15999  2018      chevrolet          4                4       gas   \n",
              "426836      0  2018            ram          4                6    diesel   \n",
              "\n",
              "        odometer_reading  status transmission drive_type  size body_type  \\\n",
              "570               111261       6    automatic        4wd     4       SUV   \n",
              "571               109947       6    automatic        rwd     4       SUV   \n",
              "580               188096       6    automatic        4wd     3       SUV   \n",
              "629               188096       6    automatic        4wd     3       SUV   \n",
              "651               164000       6    automatic        fwd     4     truck   \n",
              "...                  ...     ...          ...        ...   ...       ...   \n",
              "426785            146795       6    automatic        4wd     4     truck   \n",
              "426788             61127       6    automatic        fwd     1     sedan   \n",
              "426792            154642       6    automatic        4wd     4    pickup   \n",
              "426793             36465       6    automatic        fwd     3     sedan   \n",
              "426836             20492       6    automatic        4wd     4     truck   \n",
              "\n",
              "       paint_color  model_rarity  region_availability  \n",
              "570         silver     87.734212            37.666434  \n",
              "571          white     85.671755            37.666434  \n",
              "580         yellow     68.290365            37.666434  \n",
              "629         yellow     68.290365            37.666434  \n",
              "651          white      2.072591            37.666434  \n",
              "...            ...           ...                  ...  \n",
              "426785       black     54.684234            17.111547  \n",
              "426788      silver     40.486476            17.111547  \n",
              "426792       brown     93.810097            17.111547  \n",
              "426793       black     85.671755            17.111547  \n",
              "426836       white      8.985874            17.111547  \n",
              "\n",
              "[8914 rows x 15 columns]"
            ],
            "text/html": [
              "<div>\n",
              "<style scoped>\n",
              "    .dataframe tbody tr th:only-of-type {\n",
              "        vertical-align: middle;\n",
              "    }\n",
              "\n",
              "    .dataframe tbody tr th {\n",
              "        vertical-align: top;\n",
              "    }\n",
              "\n",
              "    .dataframe thead th {\n",
              "        text-align: right;\n",
              "    }\n",
              "</style>\n",
              "<table border=\"1\" class=\"dataframe\">\n",
              "  <thead>\n",
              "    <tr style=\"text-align: right;\">\n",
              "      <th></th>\n",
              "      <th>price</th>\n",
              "      <th>year</th>\n",
              "      <th>manufacturer</th>\n",
              "      <th>condition</th>\n",
              "      <th>cylinder_number</th>\n",
              "      <th>fuel_type</th>\n",
              "      <th>odometer_reading</th>\n",
              "      <th>status</th>\n",
              "      <th>transmission</th>\n",
              "      <th>drive_type</th>\n",
              "      <th>size</th>\n",
              "      <th>body_type</th>\n",
              "      <th>paint_color</th>\n",
              "      <th>model_rarity</th>\n",
              "      <th>region_availability</th>\n",
              "    </tr>\n",
              "  </thead>\n",
              "  <tbody>\n",
              "    <tr>\n",
              "      <th>570</th>\n",
              "      <td>19888</td>\n",
              "      <td>2015</td>\n",
              "      <td>mercedes-benz</td>\n",
              "      <td>4</td>\n",
              "      <td>6</td>\n",
              "      <td>gas</td>\n",
              "      <td>111261</td>\n",
              "      <td>6</td>\n",
              "      <td>automatic</td>\n",
              "      <td>4wd</td>\n",
              "      <td>4</td>\n",
              "      <td>SUV</td>\n",
              "      <td>silver</td>\n",
              "      <td>87.734212</td>\n",
              "      <td>37.666434</td>\n",
              "    </tr>\n",
              "    <tr>\n",
              "      <th>571</th>\n",
              "      <td>31888</td>\n",
              "      <td>2015</td>\n",
              "      <td>gmc</td>\n",
              "      <td>3</td>\n",
              "      <td>8</td>\n",
              "      <td>gas</td>\n",
              "      <td>109947</td>\n",
              "      <td>6</td>\n",
              "      <td>automatic</td>\n",
              "      <td>rwd</td>\n",
              "      <td>4</td>\n",
              "      <td>SUV</td>\n",
              "      <td>white</td>\n",
              "      <td>85.671755</td>\n",
              "      <td>37.666434</td>\n",
              "    </tr>\n",
              "    <tr>\n",
              "      <th>580</th>\n",
              "      <td>16888</td>\n",
              "      <td>2008</td>\n",
              "      <td>toyota</td>\n",
              "      <td>3</td>\n",
              "      <td>6</td>\n",
              "      <td>gas</td>\n",
              "      <td>188096</td>\n",
              "      <td>6</td>\n",
              "      <td>automatic</td>\n",
              "      <td>4wd</td>\n",
              "      <td>3</td>\n",
              "      <td>SUV</td>\n",
              "      <td>yellow</td>\n",
              "      <td>68.290365</td>\n",
              "      <td>37.666434</td>\n",
              "    </tr>\n",
              "    <tr>\n",
              "      <th>629</th>\n",
              "      <td>16888</td>\n",
              "      <td>2008</td>\n",
              "      <td>toyota</td>\n",
              "      <td>3</td>\n",
              "      <td>6</td>\n",
              "      <td>gas</td>\n",
              "      <td>188096</td>\n",
              "      <td>6</td>\n",
              "      <td>automatic</td>\n",
              "      <td>4wd</td>\n",
              "      <td>3</td>\n",
              "      <td>SUV</td>\n",
              "      <td>yellow</td>\n",
              "      <td>68.290365</td>\n",
              "      <td>37.666434</td>\n",
              "    </tr>\n",
              "    <tr>\n",
              "      <th>651</th>\n",
              "      <td>8950</td>\n",
              "      <td>2011</td>\n",
              "      <td>ford</td>\n",
              "      <td>4</td>\n",
              "      <td>6</td>\n",
              "      <td>gas</td>\n",
              "      <td>164000</td>\n",
              "      <td>6</td>\n",
              "      <td>automatic</td>\n",
              "      <td>fwd</td>\n",
              "      <td>4</td>\n",
              "      <td>truck</td>\n",
              "      <td>white</td>\n",
              "      <td>2.072591</td>\n",
              "      <td>37.666434</td>\n",
              "    </tr>\n",
              "    <tr>\n",
              "      <th>...</th>\n",
              "      <td>...</td>\n",
              "      <td>...</td>\n",
              "      <td>...</td>\n",
              "      <td>...</td>\n",
              "      <td>...</td>\n",
              "      <td>...</td>\n",
              "      <td>...</td>\n",
              "      <td>...</td>\n",
              "      <td>...</td>\n",
              "      <td>...</td>\n",
              "      <td>...</td>\n",
              "      <td>...</td>\n",
              "      <td>...</td>\n",
              "      <td>...</td>\n",
              "      <td>...</td>\n",
              "    </tr>\n",
              "    <tr>\n",
              "      <th>426785</th>\n",
              "      <td>23495</td>\n",
              "      <td>2015</td>\n",
              "      <td>ford</td>\n",
              "      <td>5</td>\n",
              "      <td>8</td>\n",
              "      <td>gas</td>\n",
              "      <td>146795</td>\n",
              "      <td>6</td>\n",
              "      <td>automatic</td>\n",
              "      <td>4wd</td>\n",
              "      <td>4</td>\n",
              "      <td>truck</td>\n",
              "      <td>black</td>\n",
              "      <td>54.684234</td>\n",
              "      <td>17.111547</td>\n",
              "    </tr>\n",
              "    <tr>\n",
              "      <th>426788</th>\n",
              "      <td>12995</td>\n",
              "      <td>2016</td>\n",
              "      <td>chevrolet</td>\n",
              "      <td>5</td>\n",
              "      <td>4</td>\n",
              "      <td>gas</td>\n",
              "      <td>61127</td>\n",
              "      <td>6</td>\n",
              "      <td>automatic</td>\n",
              "      <td>fwd</td>\n",
              "      <td>1</td>\n",
              "      <td>sedan</td>\n",
              "      <td>silver</td>\n",
              "      <td>40.486476</td>\n",
              "      <td>17.111547</td>\n",
              "    </tr>\n",
              "    <tr>\n",
              "      <th>426792</th>\n",
              "      <td>32999</td>\n",
              "      <td>2014</td>\n",
              "      <td>ford</td>\n",
              "      <td>4</td>\n",
              "      <td>8</td>\n",
              "      <td>diesel</td>\n",
              "      <td>154642</td>\n",
              "      <td>6</td>\n",
              "      <td>automatic</td>\n",
              "      <td>4wd</td>\n",
              "      <td>4</td>\n",
              "      <td>pickup</td>\n",
              "      <td>brown</td>\n",
              "      <td>93.810097</td>\n",
              "      <td>17.111547</td>\n",
              "    </tr>\n",
              "    <tr>\n",
              "      <th>426793</th>\n",
              "      <td>15999</td>\n",
              "      <td>2018</td>\n",
              "      <td>chevrolet</td>\n",
              "      <td>4</td>\n",
              "      <td>4</td>\n",
              "      <td>gas</td>\n",
              "      <td>36465</td>\n",
              "      <td>6</td>\n",
              "      <td>automatic</td>\n",
              "      <td>fwd</td>\n",
              "      <td>3</td>\n",
              "      <td>sedan</td>\n",
              "      <td>black</td>\n",
              "      <td>85.671755</td>\n",
              "      <td>17.111547</td>\n",
              "    </tr>\n",
              "    <tr>\n",
              "      <th>426836</th>\n",
              "      <td>0</td>\n",
              "      <td>2018</td>\n",
              "      <td>ram</td>\n",
              "      <td>4</td>\n",
              "      <td>6</td>\n",
              "      <td>diesel</td>\n",
              "      <td>20492</td>\n",
              "      <td>6</td>\n",
              "      <td>automatic</td>\n",
              "      <td>4wd</td>\n",
              "      <td>4</td>\n",
              "      <td>truck</td>\n",
              "      <td>white</td>\n",
              "      <td>8.985874</td>\n",
              "      <td>17.111547</td>\n",
              "    </tr>\n",
              "  </tbody>\n",
              "</table>\n",
              "<p>8914 rows × 15 columns</p>\n",
              "</div>"
            ]
          },
          "metadata": {},
          "execution_count": 51
        }
      ],
      "source": [
        "car.loc[car.duplicated()]"
      ]
    },
    {
      "cell_type": "code",
      "execution_count": 52,
      "id": "4a32107e",
      "metadata": {
        "scrolled": false,
        "colab": {
          "base_uri": "https://localhost:8080/",
          "height": 444
        },
        "id": "4a32107e",
        "outputId": "ce63a5bf-c0e2-4b6c-dd44-45df829bfc38"
      },
      "outputs": [
        {
          "output_type": "execute_result",
          "data": {
            "text/plain": [
              "        price  year manufacturer  condition  cylinder_number fuel_type  \\\n",
              "31      15000  2013         ford          4                6       gas   \n",
              "55      19900  2004         ford          3                8    diesel   \n",
              "59      14000  2012        honda          4                6       gas   \n",
              "65      22500  2001         ford          3                8    diesel   \n",
              "73      15000  2017        dodge          4                8       gas   \n",
              "...       ...   ...          ...        ...              ...       ...   \n",
              "426784  24995  2014          gmc          3                8       gas   \n",
              "426808  18000  2005    chevrolet          4                8       gas   \n",
              "426809  18000  1990         jeep          3                8       gas   \n",
              "426831   9800  1985       nissan          5                6       gas   \n",
              "426833   6800  1997       jaguar          3                8       gas   \n",
              "\n",
              "        odometer_reading  status transmission drive_type  size    body_type  \\\n",
              "31                128000       6    automatic        rwd     4        truck   \n",
              "55                 88000       6    automatic        4wd     4       pickup   \n",
              "59                 95000       6    automatic        fwd     4     mini-van   \n",
              "65                144700       6       manual        rwd     4        truck   \n",
              "73                 90000       5    automatic        rwd     3        sedan   \n",
              "...                  ...     ...          ...        ...   ...          ...   \n",
              "426784            128722       6    automatic        4wd     4        truck   \n",
              "426808            130000       3    automatic        4wd     4        truck   \n",
              "426809            114400       6    automatic        4wd     4          SUV   \n",
              "426831            115000       6    automatic        rwd     2    hatchback   \n",
              "426833             69550       6    automatic        rwd     1  convertible   \n",
              "\n",
              "       paint_color  model_rarity  region_availability  \n",
              "31           black     38.809147             0.249572  \n",
              "55            blue     31.232026             0.249572  \n",
              "59          silver     22.101729             0.249572  \n",
              "65           white     60.045607             0.249572  \n",
              "73            grey    100.000000             0.249572  \n",
              "...            ...           ...                  ...  \n",
              "426784       white     23.143092            17.111547  \n",
              "426808        blue     47.716476            17.111547  \n",
              "426809       black    100.000000            17.111547  \n",
              "426831         red     82.038386            17.111547  \n",
              "426833       white     82.038386            17.111547  \n",
              "\n",
              "[70022 rows x 15 columns]"
            ],
            "text/html": [
              "<div>\n",
              "<style scoped>\n",
              "    .dataframe tbody tr th:only-of-type {\n",
              "        vertical-align: middle;\n",
              "    }\n",
              "\n",
              "    .dataframe tbody tr th {\n",
              "        vertical-align: top;\n",
              "    }\n",
              "\n",
              "    .dataframe thead th {\n",
              "        text-align: right;\n",
              "    }\n",
              "</style>\n",
              "<table border=\"1\" class=\"dataframe\">\n",
              "  <thead>\n",
              "    <tr style=\"text-align: right;\">\n",
              "      <th></th>\n",
              "      <th>price</th>\n",
              "      <th>year</th>\n",
              "      <th>manufacturer</th>\n",
              "      <th>condition</th>\n",
              "      <th>cylinder_number</th>\n",
              "      <th>fuel_type</th>\n",
              "      <th>odometer_reading</th>\n",
              "      <th>status</th>\n",
              "      <th>transmission</th>\n",
              "      <th>drive_type</th>\n",
              "      <th>size</th>\n",
              "      <th>body_type</th>\n",
              "      <th>paint_color</th>\n",
              "      <th>model_rarity</th>\n",
              "      <th>region_availability</th>\n",
              "    </tr>\n",
              "  </thead>\n",
              "  <tbody>\n",
              "    <tr>\n",
              "      <th>31</th>\n",
              "      <td>15000</td>\n",
              "      <td>2013</td>\n",
              "      <td>ford</td>\n",
              "      <td>4</td>\n",
              "      <td>6</td>\n",
              "      <td>gas</td>\n",
              "      <td>128000</td>\n",
              "      <td>6</td>\n",
              "      <td>automatic</td>\n",
              "      <td>rwd</td>\n",
              "      <td>4</td>\n",
              "      <td>truck</td>\n",
              "      <td>black</td>\n",
              "      <td>38.809147</td>\n",
              "      <td>0.249572</td>\n",
              "    </tr>\n",
              "    <tr>\n",
              "      <th>55</th>\n",
              "      <td>19900</td>\n",
              "      <td>2004</td>\n",
              "      <td>ford</td>\n",
              "      <td>3</td>\n",
              "      <td>8</td>\n",
              "      <td>diesel</td>\n",
              "      <td>88000</td>\n",
              "      <td>6</td>\n",
              "      <td>automatic</td>\n",
              "      <td>4wd</td>\n",
              "      <td>4</td>\n",
              "      <td>pickup</td>\n",
              "      <td>blue</td>\n",
              "      <td>31.232026</td>\n",
              "      <td>0.249572</td>\n",
              "    </tr>\n",
              "    <tr>\n",
              "      <th>59</th>\n",
              "      <td>14000</td>\n",
              "      <td>2012</td>\n",
              "      <td>honda</td>\n",
              "      <td>4</td>\n",
              "      <td>6</td>\n",
              "      <td>gas</td>\n",
              "      <td>95000</td>\n",
              "      <td>6</td>\n",
              "      <td>automatic</td>\n",
              "      <td>fwd</td>\n",
              "      <td>4</td>\n",
              "      <td>mini-van</td>\n",
              "      <td>silver</td>\n",
              "      <td>22.101729</td>\n",
              "      <td>0.249572</td>\n",
              "    </tr>\n",
              "    <tr>\n",
              "      <th>65</th>\n",
              "      <td>22500</td>\n",
              "      <td>2001</td>\n",
              "      <td>ford</td>\n",
              "      <td>3</td>\n",
              "      <td>8</td>\n",
              "      <td>diesel</td>\n",
              "      <td>144700</td>\n",
              "      <td>6</td>\n",
              "      <td>manual</td>\n",
              "      <td>rwd</td>\n",
              "      <td>4</td>\n",
              "      <td>truck</td>\n",
              "      <td>white</td>\n",
              "      <td>60.045607</td>\n",
              "      <td>0.249572</td>\n",
              "    </tr>\n",
              "    <tr>\n",
              "      <th>73</th>\n",
              "      <td>15000</td>\n",
              "      <td>2017</td>\n",
              "      <td>dodge</td>\n",
              "      <td>4</td>\n",
              "      <td>8</td>\n",
              "      <td>gas</td>\n",
              "      <td>90000</td>\n",
              "      <td>5</td>\n",
              "      <td>automatic</td>\n",
              "      <td>rwd</td>\n",
              "      <td>3</td>\n",
              "      <td>sedan</td>\n",
              "      <td>grey</td>\n",
              "      <td>100.000000</td>\n",
              "      <td>0.249572</td>\n",
              "    </tr>\n",
              "    <tr>\n",
              "      <th>...</th>\n",
              "      <td>...</td>\n",
              "      <td>...</td>\n",
              "      <td>...</td>\n",
              "      <td>...</td>\n",
              "      <td>...</td>\n",
              "      <td>...</td>\n",
              "      <td>...</td>\n",
              "      <td>...</td>\n",
              "      <td>...</td>\n",
              "      <td>...</td>\n",
              "      <td>...</td>\n",
              "      <td>...</td>\n",
              "      <td>...</td>\n",
              "      <td>...</td>\n",
              "      <td>...</td>\n",
              "    </tr>\n",
              "    <tr>\n",
              "      <th>426784</th>\n",
              "      <td>24995</td>\n",
              "      <td>2014</td>\n",
              "      <td>gmc</td>\n",
              "      <td>3</td>\n",
              "      <td>8</td>\n",
              "      <td>gas</td>\n",
              "      <td>128722</td>\n",
              "      <td>6</td>\n",
              "      <td>automatic</td>\n",
              "      <td>4wd</td>\n",
              "      <td>4</td>\n",
              "      <td>truck</td>\n",
              "      <td>white</td>\n",
              "      <td>23.143092</td>\n",
              "      <td>17.111547</td>\n",
              "    </tr>\n",
              "    <tr>\n",
              "      <th>426808</th>\n",
              "      <td>18000</td>\n",
              "      <td>2005</td>\n",
              "      <td>chevrolet</td>\n",
              "      <td>4</td>\n",
              "      <td>8</td>\n",
              "      <td>gas</td>\n",
              "      <td>130000</td>\n",
              "      <td>3</td>\n",
              "      <td>automatic</td>\n",
              "      <td>4wd</td>\n",
              "      <td>4</td>\n",
              "      <td>truck</td>\n",
              "      <td>blue</td>\n",
              "      <td>47.716476</td>\n",
              "      <td>17.111547</td>\n",
              "    </tr>\n",
              "    <tr>\n",
              "      <th>426809</th>\n",
              "      <td>18000</td>\n",
              "      <td>1990</td>\n",
              "      <td>jeep</td>\n",
              "      <td>3</td>\n",
              "      <td>8</td>\n",
              "      <td>gas</td>\n",
              "      <td>114400</td>\n",
              "      <td>6</td>\n",
              "      <td>automatic</td>\n",
              "      <td>4wd</td>\n",
              "      <td>4</td>\n",
              "      <td>SUV</td>\n",
              "      <td>black</td>\n",
              "      <td>100.000000</td>\n",
              "      <td>17.111547</td>\n",
              "    </tr>\n",
              "    <tr>\n",
              "      <th>426831</th>\n",
              "      <td>9800</td>\n",
              "      <td>1985</td>\n",
              "      <td>nissan</td>\n",
              "      <td>5</td>\n",
              "      <td>6</td>\n",
              "      <td>gas</td>\n",
              "      <td>115000</td>\n",
              "      <td>6</td>\n",
              "      <td>automatic</td>\n",
              "      <td>rwd</td>\n",
              "      <td>2</td>\n",
              "      <td>hatchback</td>\n",
              "      <td>red</td>\n",
              "      <td>82.038386</td>\n",
              "      <td>17.111547</td>\n",
              "    </tr>\n",
              "    <tr>\n",
              "      <th>426833</th>\n",
              "      <td>6800</td>\n",
              "      <td>1997</td>\n",
              "      <td>jaguar</td>\n",
              "      <td>3</td>\n",
              "      <td>8</td>\n",
              "      <td>gas</td>\n",
              "      <td>69550</td>\n",
              "      <td>6</td>\n",
              "      <td>automatic</td>\n",
              "      <td>rwd</td>\n",
              "      <td>1</td>\n",
              "      <td>convertible</td>\n",
              "      <td>white</td>\n",
              "      <td>82.038386</td>\n",
              "      <td>17.111547</td>\n",
              "    </tr>\n",
              "  </tbody>\n",
              "</table>\n",
              "<p>70022 rows × 15 columns</p>\n",
              "</div>"
            ]
          },
          "metadata": {},
          "execution_count": 52
        }
      ],
      "source": [
        "car.drop_duplicates()"
      ]
    },
    {
      "cell_type": "code",
      "execution_count": 53,
      "id": "02949052",
      "metadata": {
        "scrolled": true,
        "id": "02949052"
      },
      "outputs": [],
      "source": [
        "car.reset_index(drop=True, inplace=True)"
      ]
    },
    {
      "cell_type": "code",
      "execution_count": 54,
      "id": "24ddb07d",
      "metadata": {
        "colab": {
          "base_uri": "https://localhost:8080/",
          "height": 226
        },
        "id": "24ddb07d",
        "outputId": "aaffa243-9f46-4da7-e36e-abf4e4328876"
      },
      "outputs": [
        {
          "output_type": "execute_result",
          "data": {
            "text/plain": [
              "   price  year manufacturer  condition  cylinder_number fuel_type  \\\n",
              "0  15000  2013         ford          4                6       gas   \n",
              "1  19900  2004         ford          3                8    diesel   \n",
              "2  14000  2012        honda          4                6       gas   \n",
              "3  22500  2001         ford          3                8    diesel   \n",
              "4  15000  2017        dodge          4                8       gas   \n",
              "\n",
              "   odometer_reading  status transmission drive_type  size body_type  \\\n",
              "0            128000       6    automatic        rwd     4     truck   \n",
              "1             88000       6    automatic        4wd     4    pickup   \n",
              "2             95000       6    automatic        fwd     4  mini-van   \n",
              "3            144700       6       manual        rwd     4     truck   \n",
              "4             90000       5    automatic        rwd     3     sedan   \n",
              "\n",
              "  paint_color  model_rarity  region_availability  \n",
              "0       black     38.809147             0.249572  \n",
              "1        blue     31.232026             0.249572  \n",
              "2      silver     22.101729             0.249572  \n",
              "3       white     60.045607             0.249572  \n",
              "4        grey    100.000000             0.249572  "
            ],
            "text/html": [
              "<div>\n",
              "<style scoped>\n",
              "    .dataframe tbody tr th:only-of-type {\n",
              "        vertical-align: middle;\n",
              "    }\n",
              "\n",
              "    .dataframe tbody tr th {\n",
              "        vertical-align: top;\n",
              "    }\n",
              "\n",
              "    .dataframe thead th {\n",
              "        text-align: right;\n",
              "    }\n",
              "</style>\n",
              "<table border=\"1\" class=\"dataframe\">\n",
              "  <thead>\n",
              "    <tr style=\"text-align: right;\">\n",
              "      <th></th>\n",
              "      <th>price</th>\n",
              "      <th>year</th>\n",
              "      <th>manufacturer</th>\n",
              "      <th>condition</th>\n",
              "      <th>cylinder_number</th>\n",
              "      <th>fuel_type</th>\n",
              "      <th>odometer_reading</th>\n",
              "      <th>status</th>\n",
              "      <th>transmission</th>\n",
              "      <th>drive_type</th>\n",
              "      <th>size</th>\n",
              "      <th>body_type</th>\n",
              "      <th>paint_color</th>\n",
              "      <th>model_rarity</th>\n",
              "      <th>region_availability</th>\n",
              "    </tr>\n",
              "  </thead>\n",
              "  <tbody>\n",
              "    <tr>\n",
              "      <th>0</th>\n",
              "      <td>15000</td>\n",
              "      <td>2013</td>\n",
              "      <td>ford</td>\n",
              "      <td>4</td>\n",
              "      <td>6</td>\n",
              "      <td>gas</td>\n",
              "      <td>128000</td>\n",
              "      <td>6</td>\n",
              "      <td>automatic</td>\n",
              "      <td>rwd</td>\n",
              "      <td>4</td>\n",
              "      <td>truck</td>\n",
              "      <td>black</td>\n",
              "      <td>38.809147</td>\n",
              "      <td>0.249572</td>\n",
              "    </tr>\n",
              "    <tr>\n",
              "      <th>1</th>\n",
              "      <td>19900</td>\n",
              "      <td>2004</td>\n",
              "      <td>ford</td>\n",
              "      <td>3</td>\n",
              "      <td>8</td>\n",
              "      <td>diesel</td>\n",
              "      <td>88000</td>\n",
              "      <td>6</td>\n",
              "      <td>automatic</td>\n",
              "      <td>4wd</td>\n",
              "      <td>4</td>\n",
              "      <td>pickup</td>\n",
              "      <td>blue</td>\n",
              "      <td>31.232026</td>\n",
              "      <td>0.249572</td>\n",
              "    </tr>\n",
              "    <tr>\n",
              "      <th>2</th>\n",
              "      <td>14000</td>\n",
              "      <td>2012</td>\n",
              "      <td>honda</td>\n",
              "      <td>4</td>\n",
              "      <td>6</td>\n",
              "      <td>gas</td>\n",
              "      <td>95000</td>\n",
              "      <td>6</td>\n",
              "      <td>automatic</td>\n",
              "      <td>fwd</td>\n",
              "      <td>4</td>\n",
              "      <td>mini-van</td>\n",
              "      <td>silver</td>\n",
              "      <td>22.101729</td>\n",
              "      <td>0.249572</td>\n",
              "    </tr>\n",
              "    <tr>\n",
              "      <th>3</th>\n",
              "      <td>22500</td>\n",
              "      <td>2001</td>\n",
              "      <td>ford</td>\n",
              "      <td>3</td>\n",
              "      <td>8</td>\n",
              "      <td>diesel</td>\n",
              "      <td>144700</td>\n",
              "      <td>6</td>\n",
              "      <td>manual</td>\n",
              "      <td>rwd</td>\n",
              "      <td>4</td>\n",
              "      <td>truck</td>\n",
              "      <td>white</td>\n",
              "      <td>60.045607</td>\n",
              "      <td>0.249572</td>\n",
              "    </tr>\n",
              "    <tr>\n",
              "      <th>4</th>\n",
              "      <td>15000</td>\n",
              "      <td>2017</td>\n",
              "      <td>dodge</td>\n",
              "      <td>4</td>\n",
              "      <td>8</td>\n",
              "      <td>gas</td>\n",
              "      <td>90000</td>\n",
              "      <td>5</td>\n",
              "      <td>automatic</td>\n",
              "      <td>rwd</td>\n",
              "      <td>3</td>\n",
              "      <td>sedan</td>\n",
              "      <td>grey</td>\n",
              "      <td>100.000000</td>\n",
              "      <td>0.249572</td>\n",
              "    </tr>\n",
              "  </tbody>\n",
              "</table>\n",
              "</div>"
            ]
          },
          "metadata": {},
          "execution_count": 54
        }
      ],
      "source": [
        "car.head()"
      ]
    },
    {
      "cell_type": "code",
      "execution_count": 55,
      "id": "9f349494",
      "metadata": {
        "scrolled": true,
        "colab": {
          "base_uri": "https://localhost:8080/",
          "height": 226
        },
        "id": "9f349494",
        "outputId": "c58d005f-4699-4eea-e77f-fc042135798b"
      },
      "outputs": [
        {
          "output_type": "execute_result",
          "data": {
            "text/plain": [
              "       price  year manufacturer  condition  cylinder_number fuel_type  \\\n",
              "78931  18000  2005    chevrolet          4                8       gas   \n",
              "78932  18000  1990         jeep          3                8       gas   \n",
              "78933   9800  1985       nissan          5                6       gas   \n",
              "78934   6800  1997       jaguar          3                8       gas   \n",
              "78935      0  2018          ram          4                6    diesel   \n",
              "\n",
              "       odometer_reading  status transmission drive_type  size    body_type  \\\n",
              "78931            130000       3    automatic        4wd     4        truck   \n",
              "78932            114400       6    automatic        4wd     4          SUV   \n",
              "78933            115000       6    automatic        rwd     2    hatchback   \n",
              "78934             69550       6    automatic        rwd     1  convertible   \n",
              "78935             20492       6    automatic        4wd     4        truck   \n",
              "\n",
              "      paint_color  model_rarity  region_availability  \n",
              "78931        blue     47.716476            17.111547  \n",
              "78932       black    100.000000            17.111547  \n",
              "78933         red     82.038386            17.111547  \n",
              "78934       white     82.038386            17.111547  \n",
              "78935       white      8.985874            17.111547  "
            ],
            "text/html": [
              "<div>\n",
              "<style scoped>\n",
              "    .dataframe tbody tr th:only-of-type {\n",
              "        vertical-align: middle;\n",
              "    }\n",
              "\n",
              "    .dataframe tbody tr th {\n",
              "        vertical-align: top;\n",
              "    }\n",
              "\n",
              "    .dataframe thead th {\n",
              "        text-align: right;\n",
              "    }\n",
              "</style>\n",
              "<table border=\"1\" class=\"dataframe\">\n",
              "  <thead>\n",
              "    <tr style=\"text-align: right;\">\n",
              "      <th></th>\n",
              "      <th>price</th>\n",
              "      <th>year</th>\n",
              "      <th>manufacturer</th>\n",
              "      <th>condition</th>\n",
              "      <th>cylinder_number</th>\n",
              "      <th>fuel_type</th>\n",
              "      <th>odometer_reading</th>\n",
              "      <th>status</th>\n",
              "      <th>transmission</th>\n",
              "      <th>drive_type</th>\n",
              "      <th>size</th>\n",
              "      <th>body_type</th>\n",
              "      <th>paint_color</th>\n",
              "      <th>model_rarity</th>\n",
              "      <th>region_availability</th>\n",
              "    </tr>\n",
              "  </thead>\n",
              "  <tbody>\n",
              "    <tr>\n",
              "      <th>78931</th>\n",
              "      <td>18000</td>\n",
              "      <td>2005</td>\n",
              "      <td>chevrolet</td>\n",
              "      <td>4</td>\n",
              "      <td>8</td>\n",
              "      <td>gas</td>\n",
              "      <td>130000</td>\n",
              "      <td>3</td>\n",
              "      <td>automatic</td>\n",
              "      <td>4wd</td>\n",
              "      <td>4</td>\n",
              "      <td>truck</td>\n",
              "      <td>blue</td>\n",
              "      <td>47.716476</td>\n",
              "      <td>17.111547</td>\n",
              "    </tr>\n",
              "    <tr>\n",
              "      <th>78932</th>\n",
              "      <td>18000</td>\n",
              "      <td>1990</td>\n",
              "      <td>jeep</td>\n",
              "      <td>3</td>\n",
              "      <td>8</td>\n",
              "      <td>gas</td>\n",
              "      <td>114400</td>\n",
              "      <td>6</td>\n",
              "      <td>automatic</td>\n",
              "      <td>4wd</td>\n",
              "      <td>4</td>\n",
              "      <td>SUV</td>\n",
              "      <td>black</td>\n",
              "      <td>100.000000</td>\n",
              "      <td>17.111547</td>\n",
              "    </tr>\n",
              "    <tr>\n",
              "      <th>78933</th>\n",
              "      <td>9800</td>\n",
              "      <td>1985</td>\n",
              "      <td>nissan</td>\n",
              "      <td>5</td>\n",
              "      <td>6</td>\n",
              "      <td>gas</td>\n",
              "      <td>115000</td>\n",
              "      <td>6</td>\n",
              "      <td>automatic</td>\n",
              "      <td>rwd</td>\n",
              "      <td>2</td>\n",
              "      <td>hatchback</td>\n",
              "      <td>red</td>\n",
              "      <td>82.038386</td>\n",
              "      <td>17.111547</td>\n",
              "    </tr>\n",
              "    <tr>\n",
              "      <th>78934</th>\n",
              "      <td>6800</td>\n",
              "      <td>1997</td>\n",
              "      <td>jaguar</td>\n",
              "      <td>3</td>\n",
              "      <td>8</td>\n",
              "      <td>gas</td>\n",
              "      <td>69550</td>\n",
              "      <td>6</td>\n",
              "      <td>automatic</td>\n",
              "      <td>rwd</td>\n",
              "      <td>1</td>\n",
              "      <td>convertible</td>\n",
              "      <td>white</td>\n",
              "      <td>82.038386</td>\n",
              "      <td>17.111547</td>\n",
              "    </tr>\n",
              "    <tr>\n",
              "      <th>78935</th>\n",
              "      <td>0</td>\n",
              "      <td>2018</td>\n",
              "      <td>ram</td>\n",
              "      <td>4</td>\n",
              "      <td>6</td>\n",
              "      <td>diesel</td>\n",
              "      <td>20492</td>\n",
              "      <td>6</td>\n",
              "      <td>automatic</td>\n",
              "      <td>4wd</td>\n",
              "      <td>4</td>\n",
              "      <td>truck</td>\n",
              "      <td>white</td>\n",
              "      <td>8.985874</td>\n",
              "      <td>17.111547</td>\n",
              "    </tr>\n",
              "  </tbody>\n",
              "</table>\n",
              "</div>"
            ]
          },
          "metadata": {},
          "execution_count": 55
        }
      ],
      "source": [
        "car.tail()"
      ]
    },
    {
      "cell_type": "code",
      "source": [
        "car.to_csv('D:/Workspace/Projects/UsedCarPricePrediction/Data/vehicles_cleaned.csv')"
      ],
      "metadata": {
        "id": "eRh7Wop_aGMt"
      },
      "id": "eRh7Wop_aGMt",
      "execution_count": 56,
      "outputs": []
    },
    {
      "cell_type": "markdown",
      "source": [],
      "metadata": {
        "id": "sh5PwldTaFos"
      },
      "id": "sh5PwldTaFos"
    }
  ],
  "metadata": {
    "kernelspec": {
      "display_name": "Python 3 (ipykernel)",
      "language": "python",
      "name": "python3"
    },
    "language_info": {
      "codemirror_mode": {
        "name": "ipython",
        "version": 3
      },
      "file_extension": ".py",
      "mimetype": "text/x-python",
      "name": "python",
      "nbconvert_exporter": "python",
      "pygments_lexer": "ipython3",
      "version": "3.9.12"
    },
    "colab": {
      "name": "1_Data_Cleaning.ipynb",
      "provenance": [],
      "collapsed_sections": [],
      "include_colab_link": true
    }
  },
  "nbformat": 4,
  "nbformat_minor": 5
}